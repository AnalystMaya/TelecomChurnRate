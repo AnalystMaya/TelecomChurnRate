{
 "cells": [
  {
   "cell_type": "markdown",
   "id": "57499bb9",
   "metadata": {},
   "source": [
    "# Telecom- predicting client departure"
   ]
  },
  {
   "cell_type": "markdown",
   "id": "6ffd7326",
   "metadata": {},
   "source": [
    "The telecom operator Interconnect would like to be able to forecast their churn of clients. If it's discovered that a user is planning to leave, they will be offered promotional codes and special plan options. Interconnect's marketing team has collected some of their clientele's personal data, including information about their plans and contracts."
   ]
  },
  {
   "cell_type": "markdown",
   "id": "9113e6b1",
   "metadata": {},
   "source": [
    "We are using the “Area Under the Curve” (AUC) of “Receiver Characteristic Operator” (ROC) metric because this is a binary classification problem (we are only intersted in answering the yes/ no question- is the user planning to leave?). The higher the AUC, the better the performance of the model at distinguishing between the positive and negative classes. <br>\n",
    "In addition, we will use the metric Accuracy which is used for evaluating classification models, accuracy is the fraction of predictions our model got right. "
   ]
  },
  {
   "cell_type": "markdown",
   "id": "bcc2fff9",
   "metadata": {},
   "source": [
    "## Work Plan"
   ]
  },
  {
   "cell_type": "markdown",
   "id": "f9138e31",
   "metadata": {},
   "source": [
    "Data Preprocessing\n",
    "\n",
    "0. Downloading data and conducting initial data exploration\n",
    "1. Converting features to desired types (boolean, dates and numerical)\n",
    "2. Feature engineerings: Length of membership (from begin date until end date or last update 1/2/20)\n",
    "3. Merge data to one data frame on customer id.\n",
    "\n",
    "Exploratory Data Analysis:\n",
    "\n",
    "5. Statistical description of data\n",
    "6. Visualizing distribution of data and removing outliers\n",
    "7. Analysing feature correlation (dropping irrelevant or dependent features)\n",
    "\n",
    "Machine Learning:\n",
    "\n",
    "8. Encoding features\n",
    "9. Splitting data for training and testing\n",
    "10. Training classification models : LGBM classifier, Random Forest Classifier, Logistic Regression\n",
    "11. Evaluating results: Primary metric: AUC-ROC, Additional metric: Accuracy."
   ]
  },
  {
   "cell_type": "markdown",
   "id": "5a365727",
   "metadata": {},
   "source": [
    "## Downloading & Exploring Data"
   ]
  },
  {
   "cell_type": "code",
   "execution_count": 1,
   "id": "021053fd",
   "metadata": {
    "scrolled": true
   },
   "outputs": [
    {
     "name": "stdout",
     "output_type": "stream",
     "text": [
      "Requirement already satisfied: lightgbm in c:\\users\\mayah\\anaconda3\\lib\\site-packages (3.3.2)\n",
      "Requirement already satisfied: numpy in c:\\users\\mayah\\anaconda3\\lib\\site-packages (from lightgbm) (1.21.5)\n",
      "Requirement already satisfied: scikit-learn!=0.22.0 in c:\\users\\mayah\\anaconda3\\lib\\site-packages (from lightgbm) (1.1.2)\n",
      "Requirement already satisfied: scipy in c:\\users\\mayah\\anaconda3\\lib\\site-packages (from lightgbm) (1.7.3)\n",
      "Requirement already satisfied: wheel in c:\\users\\mayah\\anaconda3\\lib\\site-packages (from lightgbm) (0.37.1)\n",
      "Requirement already satisfied: threadpoolctl>=2.0.0 in c:\\users\\mayah\\anaconda3\\lib\\site-packages (from scikit-learn!=0.22.0->lightgbm) (2.2.0)\n",
      "Requirement already satisfied: joblib>=1.0.0 in c:\\users\\mayah\\anaconda3\\lib\\site-packages (from scikit-learn!=0.22.0->lightgbm) (1.1.0)\n",
      "Note: you may need to restart the kernel to use updated packages.\n"
     ]
    }
   ],
   "source": [
    "pip install lightgbm"
   ]
  },
  {
   "cell_type": "code",
   "execution_count": 2,
   "id": "1afa0196",
   "metadata": {
    "scrolled": true
   },
   "outputs": [
    {
     "name": "stdout",
     "output_type": "stream",
     "text": [
      "Requirement already satisfied: xgboost in c:\\users\\mayah\\anaconda3\\lib\\site-packages (1.6.2)\n",
      "Requirement already satisfied: scipy in c:\\users\\mayah\\anaconda3\\lib\\site-packages (from xgboost) (1.7.3)\n",
      "Requirement already satisfied: numpy in c:\\users\\mayah\\anaconda3\\lib\\site-packages (from xgboost) (1.21.5)\n",
      "Note: you may need to restart the kernel to use updated packages.\n"
     ]
    }
   ],
   "source": [
    "pip install xgboost"
   ]
  },
  {
   "cell_type": "code",
   "execution_count": 3,
   "id": "9588e890",
   "metadata": {
    "scrolled": true
   },
   "outputs": [
    {
     "name": "stdout",
     "output_type": "stream",
     "text": [
      "Requirement already satisfied: imblearn in c:\\users\\mayah\\anaconda3\\lib\\site-packages (0.0)\n",
      "Requirement already satisfied: imbalanced-learn in c:\\users\\mayah\\anaconda3\\lib\\site-packages (from imblearn) (0.9.1)\n",
      "Requirement already satisfied: threadpoolctl>=2.0.0 in c:\\users\\mayah\\anaconda3\\lib\\site-packages (from imbalanced-learn->imblearn) (2.2.0)\n",
      "Requirement already satisfied: numpy>=1.17.3 in c:\\users\\mayah\\anaconda3\\lib\\site-packages (from imbalanced-learn->imblearn) (1.21.5)\n",
      "Requirement already satisfied: scikit-learn>=1.1.0 in c:\\users\\mayah\\anaconda3\\lib\\site-packages (from imbalanced-learn->imblearn) (1.1.2)\n",
      "Requirement already satisfied: scipy>=1.3.2 in c:\\users\\mayah\\anaconda3\\lib\\site-packages (from imbalanced-learn->imblearn) (1.7.3)\n",
      "Requirement already satisfied: joblib>=1.0.0 in c:\\users\\mayah\\anaconda3\\lib\\site-packages (from imbalanced-learn->imblearn) (1.1.0)\n",
      "Note: you may need to restart the kernel to use updated packages.\n"
     ]
    }
   ],
   "source": [
    "pip install imblearn"
   ]
  },
  {
   "cell_type": "code",
   "execution_count": 4,
   "id": "a3758ef5",
   "metadata": {},
   "outputs": [],
   "source": [
    "import pandas as pd\n",
    "import numpy as np\n",
    "\n",
    "import seaborn as sns\n",
    "import matplotlib.pyplot as plt\n",
    "\n",
    "from sklearn import metrics\n",
    "from sklearn.utils import resample\n",
    "from sklearn.preprocessing import StandardScaler\n",
    "\n",
    "from sklearn.model_selection import train_test_split, cross_validate, RandomizedSearchCV\n",
    "from imblearn.pipeline import Pipeline\n",
    "from imblearn.over_sampling import SMOTE\n",
    "\n",
    "from sklearn.linear_model import LogisticRegression\n",
    "from sklearn.tree import DecisionTreeClassifier\n",
    "from sklearn.ensemble import RandomForestClassifier\n",
    "from lightgbm import LGBMClassifier\n",
    "from xgboost import XGBClassifier"
   ]
  },
  {
   "cell_type": "code",
   "execution_count": 5,
   "id": "e5d7a7a5",
   "metadata": {},
   "outputs": [],
   "source": [
    "try:\n",
    "    contract = pd.read_csv('contract.csv')\n",
    "    internet = pd.read_csv('internet.csv')\n",
    "    personal = pd.read_csv('personal.csv')\n",
    "    phone = pd.read_csv('phone.csv')\n",
    "except:\n",
    "    contract = pd.read_csv('/datasets/final_provider/contract.csv')\n",
    "    internet = pd.read_csv('/datasets/final_provider/internet.csv')\n",
    "    personal = pd.read_csv('/datasets/final_provider/personal.csv')\n",
    "    phone = pd.read_csv('/datasets/final_provider/phone.csv')"
   ]
  },
  {
   "cell_type": "code",
   "execution_count": 6,
   "id": "83bba6ec",
   "metadata": {},
   "outputs": [
    {
     "name": "stdout",
     "output_type": "stream",
     "text": [
      "\n",
      "contract:\n"
     ]
    },
    {
     "data": {
      "text/html": [
       "<div>\n",
       "<style scoped>\n",
       "    .dataframe tbody tr th:only-of-type {\n",
       "        vertical-align: middle;\n",
       "    }\n",
       "\n",
       "    .dataframe tbody tr th {\n",
       "        vertical-align: top;\n",
       "    }\n",
       "\n",
       "    .dataframe thead th {\n",
       "        text-align: right;\n",
       "    }\n",
       "</style>\n",
       "<table border=\"1\" class=\"dataframe\">\n",
       "  <thead>\n",
       "    <tr style=\"text-align: right;\">\n",
       "      <th></th>\n",
       "      <th>customerID</th>\n",
       "      <th>BeginDate</th>\n",
       "      <th>EndDate</th>\n",
       "      <th>Type</th>\n",
       "      <th>PaperlessBilling</th>\n",
       "      <th>PaymentMethod</th>\n",
       "      <th>MonthlyCharges</th>\n",
       "      <th>TotalCharges</th>\n",
       "    </tr>\n",
       "  </thead>\n",
       "  <tbody>\n",
       "    <tr>\n",
       "      <th>4581</th>\n",
       "      <td>9084-OAYKL</td>\n",
       "      <td>2015-04-01</td>\n",
       "      <td>No</td>\n",
       "      <td>Two year</td>\n",
       "      <td>No</td>\n",
       "      <td>Mailed check</td>\n",
       "      <td>20.8</td>\n",
       "      <td>1212.25</td>\n",
       "    </tr>\n",
       "  </tbody>\n",
       "</table>\n",
       "</div>"
      ],
      "text/plain": [
       "      customerID   BeginDate EndDate      Type PaperlessBilling PaymentMethod  \\\n",
       "4581  9084-OAYKL  2015-04-01      No  Two year               No  Mailed check   \n",
       "\n",
       "      MonthlyCharges TotalCharges  \n",
       "4581            20.8      1212.25  "
      ]
     },
     "metadata": {},
     "output_type": "display_data"
    },
    {
     "name": "stdout",
     "output_type": "stream",
     "text": [
      "<class 'pandas.core.frame.DataFrame'>\n",
      "RangeIndex: 7043 entries, 0 to 7042\n",
      "Data columns (total 8 columns):\n",
      " #   Column            Non-Null Count  Dtype  \n",
      "---  ------            --------------  -----  \n",
      " 0   customerID        7043 non-null   object \n",
      " 1   BeginDate         7043 non-null   object \n",
      " 2   EndDate           7043 non-null   object \n",
      " 3   Type              7043 non-null   object \n",
      " 4   PaperlessBilling  7043 non-null   object \n",
      " 5   PaymentMethod     7043 non-null   object \n",
      " 6   MonthlyCharges    7043 non-null   float64\n",
      " 7   TotalCharges      7043 non-null   object \n",
      "dtypes: float64(1), object(7)\n",
      "memory usage: 440.3+ KB\n",
      "\n",
      "internet:\n"
     ]
    },
    {
     "data": {
      "text/html": [
       "<div>\n",
       "<style scoped>\n",
       "    .dataframe tbody tr th:only-of-type {\n",
       "        vertical-align: middle;\n",
       "    }\n",
       "\n",
       "    .dataframe tbody tr th {\n",
       "        vertical-align: top;\n",
       "    }\n",
       "\n",
       "    .dataframe thead th {\n",
       "        text-align: right;\n",
       "    }\n",
       "</style>\n",
       "<table border=\"1\" class=\"dataframe\">\n",
       "  <thead>\n",
       "    <tr style=\"text-align: right;\">\n",
       "      <th></th>\n",
       "      <th>customerID</th>\n",
       "      <th>InternetService</th>\n",
       "      <th>OnlineSecurity</th>\n",
       "      <th>OnlineBackup</th>\n",
       "      <th>DeviceProtection</th>\n",
       "      <th>TechSupport</th>\n",
       "      <th>StreamingTV</th>\n",
       "      <th>StreamingMovies</th>\n",
       "    </tr>\n",
       "  </thead>\n",
       "  <tbody>\n",
       "    <tr>\n",
       "      <th>3292</th>\n",
       "      <td>5446-DKWYW</td>\n",
       "      <td>DSL</td>\n",
       "      <td>No</td>\n",
       "      <td>No</td>\n",
       "      <td>Yes</td>\n",
       "      <td>No</td>\n",
       "      <td>Yes</td>\n",
       "      <td>No</td>\n",
       "    </tr>\n",
       "  </tbody>\n",
       "</table>\n",
       "</div>"
      ],
      "text/plain": [
       "      customerID InternetService OnlineSecurity OnlineBackup DeviceProtection  \\\n",
       "3292  5446-DKWYW             DSL             No           No              Yes   \n",
       "\n",
       "     TechSupport StreamingTV StreamingMovies  \n",
       "3292          No         Yes              No  "
      ]
     },
     "metadata": {},
     "output_type": "display_data"
    },
    {
     "name": "stdout",
     "output_type": "stream",
     "text": [
      "<class 'pandas.core.frame.DataFrame'>\n",
      "RangeIndex: 5517 entries, 0 to 5516\n",
      "Data columns (total 8 columns):\n",
      " #   Column            Non-Null Count  Dtype \n",
      "---  ------            --------------  ----- \n",
      " 0   customerID        5517 non-null   object\n",
      " 1   InternetService   5517 non-null   object\n",
      " 2   OnlineSecurity    5517 non-null   object\n",
      " 3   OnlineBackup      5517 non-null   object\n",
      " 4   DeviceProtection  5517 non-null   object\n",
      " 5   TechSupport       5517 non-null   object\n",
      " 6   StreamingTV       5517 non-null   object\n",
      " 7   StreamingMovies   5517 non-null   object\n",
      "dtypes: object(8)\n",
      "memory usage: 344.9+ KB\n",
      "\n",
      "personal:\n"
     ]
    },
    {
     "data": {
      "text/html": [
       "<div>\n",
       "<style scoped>\n",
       "    .dataframe tbody tr th:only-of-type {\n",
       "        vertical-align: middle;\n",
       "    }\n",
       "\n",
       "    .dataframe tbody tr th {\n",
       "        vertical-align: top;\n",
       "    }\n",
       "\n",
       "    .dataframe thead th {\n",
       "        text-align: right;\n",
       "    }\n",
       "</style>\n",
       "<table border=\"1\" class=\"dataframe\">\n",
       "  <thead>\n",
       "    <tr style=\"text-align: right;\">\n",
       "      <th></th>\n",
       "      <th>customerID</th>\n",
       "      <th>gender</th>\n",
       "      <th>SeniorCitizen</th>\n",
       "      <th>Partner</th>\n",
       "      <th>Dependents</th>\n",
       "    </tr>\n",
       "  </thead>\n",
       "  <tbody>\n",
       "    <tr>\n",
       "      <th>5516</th>\n",
       "      <td>6923-EFPNL</td>\n",
       "      <td>Male</td>\n",
       "      <td>0</td>\n",
       "      <td>No</td>\n",
       "      <td>No</td>\n",
       "    </tr>\n",
       "  </tbody>\n",
       "</table>\n",
       "</div>"
      ],
      "text/plain": [
       "      customerID gender  SeniorCitizen Partner Dependents\n",
       "5516  6923-EFPNL   Male              0      No         No"
      ]
     },
     "metadata": {},
     "output_type": "display_data"
    },
    {
     "name": "stdout",
     "output_type": "stream",
     "text": [
      "<class 'pandas.core.frame.DataFrame'>\n",
      "RangeIndex: 7043 entries, 0 to 7042\n",
      "Data columns (total 5 columns):\n",
      " #   Column         Non-Null Count  Dtype \n",
      "---  ------         --------------  ----- \n",
      " 0   customerID     7043 non-null   object\n",
      " 1   gender         7043 non-null   object\n",
      " 2   SeniorCitizen  7043 non-null   int64 \n",
      " 3   Partner        7043 non-null   object\n",
      " 4   Dependents     7043 non-null   object\n",
      "dtypes: int64(1), object(4)\n",
      "memory usage: 275.2+ KB\n",
      "\n",
      "phone:\n"
     ]
    },
    {
     "data": {
      "text/html": [
       "<div>\n",
       "<style scoped>\n",
       "    .dataframe tbody tr th:only-of-type {\n",
       "        vertical-align: middle;\n",
       "    }\n",
       "\n",
       "    .dataframe tbody tr th {\n",
       "        vertical-align: top;\n",
       "    }\n",
       "\n",
       "    .dataframe thead th {\n",
       "        text-align: right;\n",
       "    }\n",
       "</style>\n",
       "<table border=\"1\" class=\"dataframe\">\n",
       "  <thead>\n",
       "    <tr style=\"text-align: right;\">\n",
       "      <th></th>\n",
       "      <th>customerID</th>\n",
       "      <th>MultipleLines</th>\n",
       "    </tr>\n",
       "  </thead>\n",
       "  <tbody>\n",
       "    <tr>\n",
       "      <th>2583</th>\n",
       "      <td>2454-RPBRZ</td>\n",
       "      <td>Yes</td>\n",
       "    </tr>\n",
       "  </tbody>\n",
       "</table>\n",
       "</div>"
      ],
      "text/plain": [
       "      customerID MultipleLines\n",
       "2583  2454-RPBRZ           Yes"
      ]
     },
     "metadata": {},
     "output_type": "display_data"
    },
    {
     "name": "stdout",
     "output_type": "stream",
     "text": [
      "<class 'pandas.core.frame.DataFrame'>\n",
      "RangeIndex: 6361 entries, 0 to 6360\n",
      "Data columns (total 2 columns):\n",
      " #   Column         Non-Null Count  Dtype \n",
      "---  ------         --------------  ----- \n",
      " 0   customerID     6361 non-null   object\n",
      " 1   MultipleLines  6361 non-null   object\n",
      "dtypes: object(2)\n",
      "memory usage: 99.5+ KB\n"
     ]
    }
   ],
   "source": [
    "print()\n",
    "print('contract:')\n",
    "display(contract.sample())\n",
    "contract.info()\n",
    "print()\n",
    "print('internet:')\n",
    "display(internet.sample())\n",
    "internet.info()\n",
    "print()\n",
    "print('personal:')\n",
    "display(personal.sample())\n",
    "personal.info()\n",
    "print()\n",
    "print('phone:')\n",
    "display(phone.sample())\n",
    "phone.info()"
   ]
  },
  {
   "cell_type": "markdown",
   "id": "16a23bcf",
   "metadata": {},
   "source": [
    "## EDA & Data Preprocessing "
   ]
  },
  {
   "cell_type": "code",
   "execution_count": 7,
   "id": "061b089c",
   "metadata": {
    "scrolled": true
   },
   "outputs": [
    {
     "data": {
      "text/plain": [
       "array(['No', '2019-12-01 00:00:00', '2019-11-01 00:00:00',\n",
       "       '2019-10-01 00:00:00', '2020-01-01 00:00:00'], dtype=object)"
      ]
     },
     "execution_count": 7,
     "metadata": {},
     "output_type": "execute_result"
    }
   ],
   "source": [
    "# target feature is categorical\n",
    "contract['EndDate'].unique()"
   ]
  },
  {
   "cell_type": "code",
   "execution_count": 8,
   "id": "ba42639f",
   "metadata": {
    "scrolled": false
   },
   "outputs": [
    {
     "data": {
      "text/plain": [
       "<AxesSubplot:xlabel='EndDate', ylabel='Density'>"
      ]
     },
     "execution_count": 8,
     "metadata": {},
     "output_type": "execute_result"
    },
    {
     "data": {
      "image/png": "[encoded data removed]",
      "text/plain": [
       "<Figure size 720x504 with 1 Axes>"
      ]
     },
     "metadata": {
      "needs_background": "light"
     },
     "output_type": "display_data"
    }
   ],
   "source": [
    "plt.figure(figsize=(10,7))\n",
    "sns.kdeplot(contract[contract['EndDate']!='No']['EndDate'].astype('datetime64'))"
   ]
  },
  {
   "cell_type": "markdown",
   "id": "28e9e35d",
   "metadata": {},
   "source": [
    "The target is distributed evenly across the positive categories. \n",
    "\n",
    "I will convert the target to boolean values: False (client did not leave) if category is 'No' and True (client left) if category is a date.\n",
    "\n",
    "In order to preserve the information of departure date, I will create a new feature: Membership Length in Days."
   ]
  },
  {
   "cell_type": "markdown",
   "id": "504040b6",
   "metadata": {},
   "source": [
    "### Converting data types"
   ]
  },
  {
   "cell_type": "code",
   "execution_count": 9,
   "id": "0f37c39b",
   "metadata": {},
   "outputs": [
    {
     "name": "stderr",
     "output_type": "stream",
     "text": [
      "C:\\Users\\mayah\\AppData\\Local\\Temp\\ipykernel_16316\\199850077.py:7: FutureWarning: Inferring datetime64[ns] from data containing strings is deprecated and will be removed in a future version. To retain the old behavior explicitly pass Series(data, dtype=datetime64[ns])\n",
      "  contract['MembershipLengthDays'] = (contract['EndDate'].apply(lambda x: x if x != 'No' else pd.to_datetime('2020-02-01')).astype('datetime64', copy=True) - pd.to_datetime(contract['BeginDate'])).dt.days\n"
     ]
    },
    {
     "data": {
      "text/html": [
       "<div>\n",
       "<style scoped>\n",
       "    .dataframe tbody tr th:only-of-type {\n",
       "        vertical-align: middle;\n",
       "    }\n",
       "\n",
       "    .dataframe tbody tr th {\n",
       "        vertical-align: top;\n",
       "    }\n",
       "\n",
       "    .dataframe thead th {\n",
       "        text-align: right;\n",
       "    }\n",
       "</style>\n",
       "<table border=\"1\" class=\"dataframe\">\n",
       "  <thead>\n",
       "    <tr style=\"text-align: right;\">\n",
       "      <th></th>\n",
       "      <th>customerID</th>\n",
       "      <th>EndDate</th>\n",
       "      <th>Type</th>\n",
       "      <th>PaperlessBilling</th>\n",
       "      <th>PaymentMethod</th>\n",
       "      <th>MonthlyCharges</th>\n",
       "      <th>TotalCharges</th>\n",
       "      <th>MembershipLengthDays</th>\n",
       "    </tr>\n",
       "  </thead>\n",
       "  <tbody>\n",
       "    <tr>\n",
       "      <th>6614</th>\n",
       "      <td>4086-WITJG</td>\n",
       "      <td>False</td>\n",
       "      <td>Two year</td>\n",
       "      <td>0</td>\n",
       "      <td>Credit card (automatic)</td>\n",
       "      <td>19.7</td>\n",
       "      <td>1301.1</td>\n",
       "      <td>2163</td>\n",
       "    </tr>\n",
       "  </tbody>\n",
       "</table>\n",
       "</div>"
      ],
      "text/plain": [
       "      customerID  EndDate      Type  PaperlessBilling  \\\n",
       "6614  4086-WITJG    False  Two year                 0   \n",
       "\n",
       "                PaymentMethod  MonthlyCharges  TotalCharges  \\\n",
       "6614  Credit card (automatic)            19.7        1301.1   \n",
       "\n",
       "      MembershipLengthDays  \n",
       "6614                  2163  "
      ]
     },
     "execution_count": 9,
     "metadata": {},
     "output_type": "execute_result"
    }
   ],
   "source": [
    "# converting TotalCharges feature to numerical\n",
    "contract.loc[contract['TotalCharges']==' ', 'TotalCharges'] = 0\n",
    "contract['TotalCharges'] = contract['TotalCharges'].astype('float64')\n",
    "# converting PaperlessBilling to binary\n",
    "contract['PaperlessBilling'] = contract['PaperlessBilling'].apply(lambda i: 0 if i=='No' else 1)\n",
    "# creating duration feature\n",
    "contract['MembershipLengthDays'] = (contract['EndDate'].apply(lambda x: x if x != 'No' else pd.to_datetime('2020-02-01')).astype('datetime64', copy=True) - pd.to_datetime(contract['BeginDate'])).dt.days\n",
    "# converting target to boolean\n",
    "contract['EndDate'] = contract['EndDate'].apply(lambda end: True if end != 'No' else False)\n",
    "# droping BeginDate to avoid data leackage\n",
    "contract.drop('BeginDate', axis=1, inplace=True)                                    \n",
    "                                    \n",
    "contract.sample()"
   ]
  },
  {
   "cell_type": "code",
   "execution_count": 10,
   "id": "8753750a",
   "metadata": {},
   "outputs": [
    {
     "data": {
      "text/html": [
       "<div>\n",
       "<style scoped>\n",
       "    .dataframe tbody tr th:only-of-type {\n",
       "        vertical-align: middle;\n",
       "    }\n",
       "\n",
       "    .dataframe tbody tr th {\n",
       "        vertical-align: top;\n",
       "    }\n",
       "\n",
       "    .dataframe thead th {\n",
       "        text-align: right;\n",
       "    }\n",
       "</style>\n",
       "<table border=\"1\" class=\"dataframe\">\n",
       "  <thead>\n",
       "    <tr style=\"text-align: right;\">\n",
       "      <th></th>\n",
       "      <th>customerID</th>\n",
       "      <th>InternetService</th>\n",
       "      <th>OnlineSecurity</th>\n",
       "      <th>OnlineBackup</th>\n",
       "      <th>DeviceProtection</th>\n",
       "      <th>TechSupport</th>\n",
       "      <th>StreamingTV</th>\n",
       "      <th>StreamingMovies</th>\n",
       "    </tr>\n",
       "  </thead>\n",
       "  <tbody>\n",
       "    <tr>\n",
       "      <th>645</th>\n",
       "      <td>7382-DFJTU</td>\n",
       "      <td>DSL</td>\n",
       "      <td>0</td>\n",
       "      <td>0</td>\n",
       "      <td>1</td>\n",
       "      <td>1</td>\n",
       "      <td>0</td>\n",
       "      <td>0</td>\n",
       "    </tr>\n",
       "  </tbody>\n",
       "</table>\n",
       "</div>"
      ],
      "text/plain": [
       "     customerID InternetService  OnlineSecurity  OnlineBackup  \\\n",
       "645  7382-DFJTU             DSL               0             0   \n",
       "\n",
       "     DeviceProtection  TechSupport  StreamingTV  StreamingMovies  \n",
       "645                 1            1            0                0  "
      ]
     },
     "execution_count": 10,
     "metadata": {},
     "output_type": "execute_result"
    }
   ],
   "source": [
    "# converting Yes/No features to binary\n",
    "for col in ['OnlineSecurity','OnlineBackup','DeviceProtection','TechSupport','StreamingTV','StreamingMovies']:\n",
    "    internet[col] = internet[col].apply(lambda i: 0 if i=='No' else 1)\n",
    "\n",
    "internet.sample()"
   ]
  },
  {
   "cell_type": "code",
   "execution_count": 11,
   "id": "e686335e",
   "metadata": {},
   "outputs": [
    {
     "data": {
      "text/html": [
       "<div>\n",
       "<style scoped>\n",
       "    .dataframe tbody tr th:only-of-type {\n",
       "        vertical-align: middle;\n",
       "    }\n",
       "\n",
       "    .dataframe tbody tr th {\n",
       "        vertical-align: top;\n",
       "    }\n",
       "\n",
       "    .dataframe thead th {\n",
       "        text-align: right;\n",
       "    }\n",
       "</style>\n",
       "<table border=\"1\" class=\"dataframe\">\n",
       "  <thead>\n",
       "    <tr style=\"text-align: right;\">\n",
       "      <th></th>\n",
       "      <th>customerID</th>\n",
       "      <th>gender</th>\n",
       "      <th>SeniorCitizen</th>\n",
       "      <th>Partner</th>\n",
       "      <th>Dependents</th>\n",
       "    </tr>\n",
       "  </thead>\n",
       "  <tbody>\n",
       "    <tr>\n",
       "      <th>4293</th>\n",
       "      <td>2114-MGINA</td>\n",
       "      <td>Female</td>\n",
       "      <td>0</td>\n",
       "      <td>0</td>\n",
       "      <td>0</td>\n",
       "    </tr>\n",
       "  </tbody>\n",
       "</table>\n",
       "</div>"
      ],
      "text/plain": [
       "      customerID  gender  SeniorCitizen  Partner  Dependents\n",
       "4293  2114-MGINA  Female              0        0           0"
      ]
     },
     "execution_count": 11,
     "metadata": {},
     "output_type": "execute_result"
    }
   ],
   "source": [
    "# converting Yes/No features to binary\n",
    "for col in ['Partner','Dependents']:\n",
    "    personal[col] = personal[col].apply(lambda i: 0 if i=='No' else 1)\n",
    "\n",
    "personal.sample()"
   ]
  },
  {
   "cell_type": "code",
   "execution_count": 12,
   "id": "83d8ad8d",
   "metadata": {},
   "outputs": [
    {
     "data": {
      "text/html": [
       "<div>\n",
       "<style scoped>\n",
       "    .dataframe tbody tr th:only-of-type {\n",
       "        vertical-align: middle;\n",
       "    }\n",
       "\n",
       "    .dataframe tbody tr th {\n",
       "        vertical-align: top;\n",
       "    }\n",
       "\n",
       "    .dataframe thead th {\n",
       "        text-align: right;\n",
       "    }\n",
       "</style>\n",
       "<table border=\"1\" class=\"dataframe\">\n",
       "  <thead>\n",
       "    <tr style=\"text-align: right;\">\n",
       "      <th></th>\n",
       "      <th>customerID</th>\n",
       "      <th>MultipleLines</th>\n",
       "    </tr>\n",
       "  </thead>\n",
       "  <tbody>\n",
       "    <tr>\n",
       "      <th>719</th>\n",
       "      <td>5173-WXOQV</td>\n",
       "      <td>0</td>\n",
       "    </tr>\n",
       "  </tbody>\n",
       "</table>\n",
       "</div>"
      ],
      "text/plain": [
       "     customerID  MultipleLines\n",
       "719  5173-WXOQV              0"
      ]
     },
     "execution_count": 12,
     "metadata": {},
     "output_type": "execute_result"
    }
   ],
   "source": [
    "# converting Yes/No features to binary\n",
    "phone['MultipleLines'] = phone['MultipleLines'].apply(lambda i: 0 if i=='No' else 1)\n",
    "\n",
    "phone.sample()"
   ]
  },
  {
   "cell_type": "code",
   "execution_count": 13,
   "id": "b16173cd",
   "metadata": {
    "scrolled": true
   },
   "outputs": [
    {
     "data": {
      "text/html": [
       "<div>\n",
       "<style scoped>\n",
       "    .dataframe tbody tr th:only-of-type {\n",
       "        vertical-align: middle;\n",
       "    }\n",
       "\n",
       "    .dataframe tbody tr th {\n",
       "        vertical-align: top;\n",
       "    }\n",
       "\n",
       "    .dataframe thead th {\n",
       "        text-align: right;\n",
       "    }\n",
       "</style>\n",
       "<table border=\"1\" class=\"dataframe\">\n",
       "  <thead>\n",
       "    <tr style=\"text-align: right;\">\n",
       "      <th></th>\n",
       "      <th>customerID</th>\n",
       "      <th>EndDate</th>\n",
       "      <th>Type</th>\n",
       "      <th>PaperlessBilling</th>\n",
       "      <th>PaymentMethod</th>\n",
       "      <th>MonthlyCharges</th>\n",
       "      <th>TotalCharges</th>\n",
       "      <th>MembershipLengthDays</th>\n",
       "      <th>gender</th>\n",
       "      <th>SeniorCitizen</th>\n",
       "      <th>Partner</th>\n",
       "      <th>Dependents</th>\n",
       "      <th>InternetService</th>\n",
       "      <th>OnlineSecurity</th>\n",
       "      <th>OnlineBackup</th>\n",
       "      <th>DeviceProtection</th>\n",
       "      <th>TechSupport</th>\n",
       "      <th>StreamingTV</th>\n",
       "      <th>StreamingMovies</th>\n",
       "      <th>MultipleLines</th>\n",
       "    </tr>\n",
       "  </thead>\n",
       "  <tbody>\n",
       "    <tr>\n",
       "      <th>4790</th>\n",
       "      <td>5216-WASFJ</td>\n",
       "      <td>False</td>\n",
       "      <td>Month-to-month</td>\n",
       "      <td>1</td>\n",
       "      <td>Electronic check</td>\n",
       "      <td>84.85</td>\n",
       "      <td>2633.40</td>\n",
       "      <td>945</td>\n",
       "      <td>Female</td>\n",
       "      <td>1</td>\n",
       "      <td>1</td>\n",
       "      <td>0</td>\n",
       "      <td>Fiber optic</td>\n",
       "      <td>0.0</td>\n",
       "      <td>0.0</td>\n",
       "      <td>0.0</td>\n",
       "      <td>0.0</td>\n",
       "      <td>0.0</td>\n",
       "      <td>1.0</td>\n",
       "      <td>1.0</td>\n",
       "    </tr>\n",
       "    <tr>\n",
       "      <th>6282</th>\n",
       "      <td>1354-YZFNB</td>\n",
       "      <td>False</td>\n",
       "      <td>Two year</td>\n",
       "      <td>0</td>\n",
       "      <td>Credit card (automatic)</td>\n",
       "      <td>19.55</td>\n",
       "      <td>68.80</td>\n",
       "      <td>123</td>\n",
       "      <td>Male</td>\n",
       "      <td>0</td>\n",
       "      <td>1</td>\n",
       "      <td>1</td>\n",
       "      <td>NaN</td>\n",
       "      <td>NaN</td>\n",
       "      <td>NaN</td>\n",
       "      <td>NaN</td>\n",
       "      <td>NaN</td>\n",
       "      <td>NaN</td>\n",
       "      <td>NaN</td>\n",
       "      <td>0.0</td>\n",
       "    </tr>\n",
       "    <tr>\n",
       "      <th>3675</th>\n",
       "      <td>9753-OYLBX</td>\n",
       "      <td>False</td>\n",
       "      <td>Month-to-month</td>\n",
       "      <td>0</td>\n",
       "      <td>Mailed check</td>\n",
       "      <td>20.50</td>\n",
       "      <td>20.50</td>\n",
       "      <td>31</td>\n",
       "      <td>Female</td>\n",
       "      <td>0</td>\n",
       "      <td>0</td>\n",
       "      <td>0</td>\n",
       "      <td>NaN</td>\n",
       "      <td>NaN</td>\n",
       "      <td>NaN</td>\n",
       "      <td>NaN</td>\n",
       "      <td>NaN</td>\n",
       "      <td>NaN</td>\n",
       "      <td>NaN</td>\n",
       "      <td>0.0</td>\n",
       "    </tr>\n",
       "    <tr>\n",
       "      <th>6581</th>\n",
       "      <td>2453-SAFNS</td>\n",
       "      <td>False</td>\n",
       "      <td>One year</td>\n",
       "      <td>0</td>\n",
       "      <td>Mailed check</td>\n",
       "      <td>72.10</td>\n",
       "      <td>3886.05</td>\n",
       "      <td>1645</td>\n",
       "      <td>Female</td>\n",
       "      <td>1</td>\n",
       "      <td>0</td>\n",
       "      <td>0</td>\n",
       "      <td>DSL</td>\n",
       "      <td>0.0</td>\n",
       "      <td>1.0</td>\n",
       "      <td>0.0</td>\n",
       "      <td>1.0</td>\n",
       "      <td>1.0</td>\n",
       "      <td>0.0</td>\n",
       "      <td>1.0</td>\n",
       "    </tr>\n",
       "    <tr>\n",
       "      <th>3505</th>\n",
       "      <td>1335-NTIUC</td>\n",
       "      <td>False</td>\n",
       "      <td>Month-to-month</td>\n",
       "      <td>1</td>\n",
       "      <td>Electronic check</td>\n",
       "      <td>24.95</td>\n",
       "      <td>190.25</td>\n",
       "      <td>276</td>\n",
       "      <td>Male</td>\n",
       "      <td>0</td>\n",
       "      <td>0</td>\n",
       "      <td>0</td>\n",
       "      <td>DSL</td>\n",
       "      <td>0.0</td>\n",
       "      <td>0.0</td>\n",
       "      <td>0.0</td>\n",
       "      <td>0.0</td>\n",
       "      <td>0.0</td>\n",
       "      <td>0.0</td>\n",
       "      <td>NaN</td>\n",
       "    </tr>\n",
       "  </tbody>\n",
       "</table>\n",
       "</div>"
      ],
      "text/plain": [
       "      customerID  EndDate            Type  PaperlessBilling  \\\n",
       "4790  5216-WASFJ    False  Month-to-month                 1   \n",
       "6282  1354-YZFNB    False        Two year                 0   \n",
       "3675  9753-OYLBX    False  Month-to-month                 0   \n",
       "6581  2453-SAFNS    False        One year                 0   \n",
       "3505  1335-NTIUC    False  Month-to-month                 1   \n",
       "\n",
       "                PaymentMethod  MonthlyCharges  TotalCharges  \\\n",
       "4790         Electronic check           84.85       2633.40   \n",
       "6282  Credit card (automatic)           19.55         68.80   \n",
       "3675             Mailed check           20.50         20.50   \n",
       "6581             Mailed check           72.10       3886.05   \n",
       "3505         Electronic check           24.95        190.25   \n",
       "\n",
       "      MembershipLengthDays  gender  SeniorCitizen  Partner  Dependents  \\\n",
       "4790                   945  Female              1        1           0   \n",
       "6282                   123    Male              0        1           1   \n",
       "3675                    31  Female              0        0           0   \n",
       "6581                  1645  Female              1        0           0   \n",
       "3505                   276    Male              0        0           0   \n",
       "\n",
       "     InternetService  OnlineSecurity  OnlineBackup  DeviceProtection  \\\n",
       "4790     Fiber optic             0.0           0.0               0.0   \n",
       "6282             NaN             NaN           NaN               NaN   \n",
       "3675             NaN             NaN           NaN               NaN   \n",
       "6581             DSL             0.0           1.0               0.0   \n",
       "3505             DSL             0.0           0.0               0.0   \n",
       "\n",
       "      TechSupport  StreamingTV  StreamingMovies  MultipleLines  \n",
       "4790          0.0          0.0              1.0            1.0  \n",
       "6282          NaN          NaN              NaN            0.0  \n",
       "3675          NaN          NaN              NaN            0.0  \n",
       "6581          1.0          1.0              0.0            1.0  \n",
       "3505          0.0          0.0              0.0            NaN  "
      ]
     },
     "execution_count": 13,
     "metadata": {},
     "output_type": "execute_result"
    }
   ],
   "source": [
    "df = contract.merge(right=personal, how='outer', on='customerID', validate='1:1')\n",
    "df = df.merge(right=internet, how='outer', on='customerID', validate='1:1')\n",
    "df = df.merge(right=phone, how='outer', on='customerID', validate='1:1')\n",
    "\n",
    "df.sample(5)"
   ]
  },
  {
   "cell_type": "markdown",
   "id": "04ee66b2",
   "metadata": {},
   "source": [
    "## EDA"
   ]
  },
  {
   "cell_type": "code",
   "execution_count": 14,
   "id": "d0b422f7",
   "metadata": {},
   "outputs": [
    {
     "name": "stdout",
     "output_type": "stream",
     "text": [
      "The dataset contains 7043 rows and 20 columns.\n"
     ]
    }
   ],
   "source": [
    "#checking for the dimension of the data\n",
    "rows, column = df.shape\n",
    "print('The dataset contains', rows, 'rows and', column, 'columns.')"
   ]
  },
  {
   "cell_type": "code",
   "execution_count": 15,
   "id": "74e9e7f9",
   "metadata": {
    "scrolled": false
   },
   "outputs": [
    {
     "data": {
      "text/html": [
       "<div>\n",
       "<style scoped>\n",
       "    .dataframe tbody tr th:only-of-type {\n",
       "        vertical-align: middle;\n",
       "    }\n",
       "\n",
       "    .dataframe tbody tr th {\n",
       "        vertical-align: top;\n",
       "    }\n",
       "\n",
       "    .dataframe thead th {\n",
       "        text-align: right;\n",
       "    }\n",
       "</style>\n",
       "<table border=\"1\" class=\"dataframe\">\n",
       "  <thead>\n",
       "    <tr style=\"text-align: right;\">\n",
       "      <th></th>\n",
       "      <th>PaperlessBilling</th>\n",
       "      <th>MonthlyCharges</th>\n",
       "      <th>TotalCharges</th>\n",
       "      <th>MembershipLengthDays</th>\n",
       "      <th>SeniorCitizen</th>\n",
       "      <th>Partner</th>\n",
       "      <th>Dependents</th>\n",
       "      <th>OnlineSecurity</th>\n",
       "      <th>OnlineBackup</th>\n",
       "      <th>DeviceProtection</th>\n",
       "      <th>TechSupport</th>\n",
       "      <th>StreamingTV</th>\n",
       "      <th>StreamingMovies</th>\n",
       "      <th>MultipleLines</th>\n",
       "    </tr>\n",
       "  </thead>\n",
       "  <tbody>\n",
       "    <tr>\n",
       "      <th>count</th>\n",
       "      <td>7043.000000</td>\n",
       "      <td>7043.000000</td>\n",
       "      <td>7043.000000</td>\n",
       "      <td>7043.000000</td>\n",
       "      <td>7043.000000</td>\n",
       "      <td>7043.000000</td>\n",
       "      <td>7043.000000</td>\n",
       "      <td>5517.000000</td>\n",
       "      <td>5517.000000</td>\n",
       "      <td>5517.000000</td>\n",
       "      <td>5517.000000</td>\n",
       "      <td>5517.000000</td>\n",
       "      <td>5517.000000</td>\n",
       "      <td>6361.000000</td>\n",
       "    </tr>\n",
       "    <tr>\n",
       "      <th>mean</th>\n",
       "      <td>0.592219</td>\n",
       "      <td>64.761692</td>\n",
       "      <td>2279.734304</td>\n",
       "      <td>985.996166</td>\n",
       "      <td>0.162147</td>\n",
       "      <td>0.483033</td>\n",
       "      <td>0.299588</td>\n",
       "      <td>0.365960</td>\n",
       "      <td>0.440276</td>\n",
       "      <td>0.439007</td>\n",
       "      <td>0.370491</td>\n",
       "      <td>0.490665</td>\n",
       "      <td>0.495197</td>\n",
       "      <td>0.467065</td>\n",
       "    </tr>\n",
       "    <tr>\n",
       "      <th>std</th>\n",
       "      <td>0.491457</td>\n",
       "      <td>30.090047</td>\n",
       "      <td>2266.794470</td>\n",
       "      <td>747.587844</td>\n",
       "      <td>0.368612</td>\n",
       "      <td>0.499748</td>\n",
       "      <td>0.458110</td>\n",
       "      <td>0.481742</td>\n",
       "      <td>0.496465</td>\n",
       "      <td>0.496311</td>\n",
       "      <td>0.482980</td>\n",
       "      <td>0.499958</td>\n",
       "      <td>0.500022</td>\n",
       "      <td>0.498953</td>\n",
       "    </tr>\n",
       "    <tr>\n",
       "      <th>min</th>\n",
       "      <td>0.000000</td>\n",
       "      <td>18.250000</td>\n",
       "      <td>0.000000</td>\n",
       "      <td>0.000000</td>\n",
       "      <td>0.000000</td>\n",
       "      <td>0.000000</td>\n",
       "      <td>0.000000</td>\n",
       "      <td>0.000000</td>\n",
       "      <td>0.000000</td>\n",
       "      <td>0.000000</td>\n",
       "      <td>0.000000</td>\n",
       "      <td>0.000000</td>\n",
       "      <td>0.000000</td>\n",
       "      <td>0.000000</td>\n",
       "    </tr>\n",
       "    <tr>\n",
       "      <th>25%</th>\n",
       "      <td>0.000000</td>\n",
       "      <td>35.500000</td>\n",
       "      <td>398.550000</td>\n",
       "      <td>273.000000</td>\n",
       "      <td>0.000000</td>\n",
       "      <td>0.000000</td>\n",
       "      <td>0.000000</td>\n",
       "      <td>0.000000</td>\n",
       "      <td>0.000000</td>\n",
       "      <td>0.000000</td>\n",
       "      <td>0.000000</td>\n",
       "      <td>0.000000</td>\n",
       "      <td>0.000000</td>\n",
       "      <td>0.000000</td>\n",
       "    </tr>\n",
       "    <tr>\n",
       "      <th>50%</th>\n",
       "      <td>1.000000</td>\n",
       "      <td>70.350000</td>\n",
       "      <td>1394.550000</td>\n",
       "      <td>883.000000</td>\n",
       "      <td>0.000000</td>\n",
       "      <td>0.000000</td>\n",
       "      <td>0.000000</td>\n",
       "      <td>0.000000</td>\n",
       "      <td>0.000000</td>\n",
       "      <td>0.000000</td>\n",
       "      <td>0.000000</td>\n",
       "      <td>0.000000</td>\n",
       "      <td>0.000000</td>\n",
       "      <td>0.000000</td>\n",
       "    </tr>\n",
       "    <tr>\n",
       "      <th>75%</th>\n",
       "      <td>1.000000</td>\n",
       "      <td>89.850000</td>\n",
       "      <td>3786.600000</td>\n",
       "      <td>1676.000000</td>\n",
       "      <td>0.000000</td>\n",
       "      <td>1.000000</td>\n",
       "      <td>1.000000</td>\n",
       "      <td>1.000000</td>\n",
       "      <td>1.000000</td>\n",
       "      <td>1.000000</td>\n",
       "      <td>1.000000</td>\n",
       "      <td>1.000000</td>\n",
       "      <td>1.000000</td>\n",
       "      <td>1.000000</td>\n",
       "    </tr>\n",
       "    <tr>\n",
       "      <th>max</th>\n",
       "      <td>1.000000</td>\n",
       "      <td>118.750000</td>\n",
       "      <td>8684.800000</td>\n",
       "      <td>2191.000000</td>\n",
       "      <td>1.000000</td>\n",
       "      <td>1.000000</td>\n",
       "      <td>1.000000</td>\n",
       "      <td>1.000000</td>\n",
       "      <td>1.000000</td>\n",
       "      <td>1.000000</td>\n",
       "      <td>1.000000</td>\n",
       "      <td>1.000000</td>\n",
       "      <td>1.000000</td>\n",
       "      <td>1.000000</td>\n",
       "    </tr>\n",
       "  </tbody>\n",
       "</table>\n",
       "</div>"
      ],
      "text/plain": [
       "       PaperlessBilling  MonthlyCharges  TotalCharges  MembershipLengthDays  \\\n",
       "count       7043.000000     7043.000000   7043.000000           7043.000000   \n",
       "mean           0.592219       64.761692   2279.734304            985.996166   \n",
       "std            0.491457       30.090047   2266.794470            747.587844   \n",
       "min            0.000000       18.250000      0.000000              0.000000   \n",
       "25%            0.000000       35.500000    398.550000            273.000000   \n",
       "50%            1.000000       70.350000   1394.550000            883.000000   \n",
       "75%            1.000000       89.850000   3786.600000           1676.000000   \n",
       "max            1.000000      118.750000   8684.800000           2191.000000   \n",
       "\n",
       "       SeniorCitizen      Partner   Dependents  OnlineSecurity  OnlineBackup  \\\n",
       "count    7043.000000  7043.000000  7043.000000     5517.000000   5517.000000   \n",
       "mean        0.162147     0.483033     0.299588        0.365960      0.440276   \n",
       "std         0.368612     0.499748     0.458110        0.481742      0.496465   \n",
       "min         0.000000     0.000000     0.000000        0.000000      0.000000   \n",
       "25%         0.000000     0.000000     0.000000        0.000000      0.000000   \n",
       "50%         0.000000     0.000000     0.000000        0.000000      0.000000   \n",
       "75%         0.000000     1.000000     1.000000        1.000000      1.000000   \n",
       "max         1.000000     1.000000     1.000000        1.000000      1.000000   \n",
       "\n",
       "       DeviceProtection  TechSupport  StreamingTV  StreamingMovies  \\\n",
       "count       5517.000000  5517.000000  5517.000000      5517.000000   \n",
       "mean           0.439007     0.370491     0.490665         0.495197   \n",
       "std            0.496311     0.482980     0.499958         0.500022   \n",
       "min            0.000000     0.000000     0.000000         0.000000   \n",
       "25%            0.000000     0.000000     0.000000         0.000000   \n",
       "50%            0.000000     0.000000     0.000000         0.000000   \n",
       "75%            1.000000     1.000000     1.000000         1.000000   \n",
       "max            1.000000     1.000000     1.000000         1.000000   \n",
       "\n",
       "       MultipleLines  \n",
       "count    6361.000000  \n",
       "mean        0.467065  \n",
       "std         0.498953  \n",
       "min         0.000000  \n",
       "25%         0.000000  \n",
       "50%         0.000000  \n",
       "75%         1.000000  \n",
       "max         1.000000  "
      ]
     },
     "execution_count": 15,
     "metadata": {},
     "output_type": "execute_result"
    }
   ],
   "source": [
    "df.describe()"
   ]
  },
  {
   "cell_type": "code",
   "execution_count": 16,
   "id": "f81a25d8",
   "metadata": {
    "scrolled": false
   },
   "outputs": [
    {
     "data": {
      "text/html": [
       "<div>\n",
       "<style scoped>\n",
       "    .dataframe tbody tr th:only-of-type {\n",
       "        vertical-align: middle;\n",
       "    }\n",
       "\n",
       "    .dataframe tbody tr th {\n",
       "        vertical-align: top;\n",
       "    }\n",
       "\n",
       "    .dataframe thead th {\n",
       "        text-align: right;\n",
       "    }\n",
       "</style>\n",
       "<table border=\"1\" class=\"dataframe\">\n",
       "  <thead>\n",
       "    <tr style=\"text-align: right;\">\n",
       "      <th></th>\n",
       "      <th>customerID</th>\n",
       "      <th>EndDate</th>\n",
       "      <th>Type</th>\n",
       "      <th>PaymentMethod</th>\n",
       "      <th>gender</th>\n",
       "      <th>InternetService</th>\n",
       "    </tr>\n",
       "  </thead>\n",
       "  <tbody>\n",
       "    <tr>\n",
       "      <th>count</th>\n",
       "      <td>7043</td>\n",
       "      <td>7043</td>\n",
       "      <td>7043</td>\n",
       "      <td>7043</td>\n",
       "      <td>7043</td>\n",
       "      <td>5517</td>\n",
       "    </tr>\n",
       "    <tr>\n",
       "      <th>unique</th>\n",
       "      <td>7043</td>\n",
       "      <td>2</td>\n",
       "      <td>3</td>\n",
       "      <td>4</td>\n",
       "      <td>2</td>\n",
       "      <td>2</td>\n",
       "    </tr>\n",
       "    <tr>\n",
       "      <th>top</th>\n",
       "      <td>7590-VHVEG</td>\n",
       "      <td>False</td>\n",
       "      <td>Month-to-month</td>\n",
       "      <td>Electronic check</td>\n",
       "      <td>Male</td>\n",
       "      <td>Fiber optic</td>\n",
       "    </tr>\n",
       "    <tr>\n",
       "      <th>freq</th>\n",
       "      <td>1</td>\n",
       "      <td>5174</td>\n",
       "      <td>3875</td>\n",
       "      <td>2365</td>\n",
       "      <td>3555</td>\n",
       "      <td>3096</td>\n",
       "    </tr>\n",
       "  </tbody>\n",
       "</table>\n",
       "</div>"
      ],
      "text/plain": [
       "        customerID EndDate            Type     PaymentMethod gender  \\\n",
       "count         7043    7043            7043              7043   7043   \n",
       "unique        7043       2               3                 4      2   \n",
       "top     7590-VHVEG   False  Month-to-month  Electronic check   Male   \n",
       "freq             1    5174            3875              2365   3555   \n",
       "\n",
       "       InternetService  \n",
       "count             5517  \n",
       "unique               2  \n",
       "top        Fiber optic  \n",
       "freq              3096  "
      ]
     },
     "execution_count": 16,
     "metadata": {},
     "output_type": "execute_result"
    }
   ],
   "source": [
    "df.describe(include=['object', 'bool'])"
   ]
  },
  {
   "cell_type": "code",
   "execution_count": 17,
   "id": "cbfbbcc2",
   "metadata": {},
   "outputs": [
    {
     "data": {
      "image/png": "[encoded data removed]",
      "text/plain": [
       "<Figure size 1440x1296 with 16 Axes>"
      ]
     },
     "metadata": {
      "needs_background": "light"
     },
     "output_type": "display_data"
    }
   ],
   "source": [
    "df.hist(bins = 20, figsize = (20, 18), color = 'violet');"
   ]
  },
  {
   "cell_type": "code",
   "execution_count": 18,
   "id": "2ff48dfb",
   "metadata": {},
   "outputs": [
    {
     "name": "stderr",
     "output_type": "stream",
     "text": [
      "C:\\Users\\mayah\\anaconda3\\lib\\site-packages\\seaborn\\_decorators.py:36: FutureWarning: Pass the following variable as a keyword arg: x. From version 0.12, the only valid positional argument will be `data`, and passing other arguments without an explicit keyword will result in an error or misinterpretation.\n",
      "  warnings.warn(\n",
      "C:\\Users\\mayah\\anaconda3\\lib\\site-packages\\seaborn\\_decorators.py:36: FutureWarning: Pass the following variable as a keyword arg: x. From version 0.12, the only valid positional argument will be `data`, and passing other arguments without an explicit keyword will result in an error or misinterpretation.\n",
      "  warnings.warn(\n",
      "C:\\Users\\mayah\\anaconda3\\lib\\site-packages\\seaborn\\_decorators.py:36: FutureWarning: Pass the following variable as a keyword arg: x. From version 0.12, the only valid positional argument will be `data`, and passing other arguments without an explicit keyword will result in an error or misinterpretation.\n",
      "  warnings.warn(\n"
     ]
    },
    {
     "data": {
      "image/png": "[encoded data removed]",
      "text/plain": [
       "<Figure size 1800x1656 with 3 Axes>"
      ]
     },
     "metadata": {
      "needs_background": "light"
     },
     "output_type": "display_data"
    }
   ],
   "source": [
    "plt.figure(figsize=(25,23))\n",
    "col = 1\n",
    "for i in ['MonthlyCharges','TotalCharges','MembershipLengthDays']:\n",
    "    plt.subplot(4, 4, col)\n",
    "    sns.boxplot(df[i],color='blue')\n",
    "    col += 1"
   ]
  },
  {
   "cell_type": "markdown",
   "id": "5d15addd",
   "metadata": {},
   "source": [
    "There are no outliers in the numerical features of the data"
   ]
  },
  {
   "cell_type": "code",
   "execution_count": 19,
   "id": "3dd41832",
   "metadata": {
    "scrolled": false
   },
   "outputs": [
    {
     "data": {
      "image/png": "[encoded data removed]",
      "text/plain": [
       "<Figure size 1800x1656 with 3 Axes>"
      ]
     },
     "metadata": {
      "needs_background": "light"
     },
     "output_type": "display_data"
    }
   ],
   "source": [
    "plt.figure(figsize=(25,23))\n",
    "col = 1\n",
    "for i in ['MonthlyCharges','TotalCharges','MembershipLengthDays']:\n",
    "    plt.subplot(4, 4, col)\n",
    "    sns.violinplot(data=df, y=i ,x='Type')\n",
    "    col += 1"
   ]
  },
  {
   "cell_type": "code",
   "execution_count": 20,
   "id": "267d66dd",
   "metadata": {},
   "outputs": [
    {
     "name": "stderr",
     "output_type": "stream",
     "text": [
      "C:\\Users\\mayah\\anaconda3\\lib\\site-packages\\seaborn\\_decorators.py:36: FutureWarning: Pass the following variable as a keyword arg: x. From version 0.12, the only valid positional argument will be `data`, and passing other arguments without an explicit keyword will result in an error or misinterpretation.\n",
      "  warnings.warn(\n",
      "C:\\Users\\mayah\\anaconda3\\lib\\site-packages\\seaborn\\_decorators.py:36: FutureWarning: Pass the following variable as a keyword arg: x. From version 0.12, the only valid positional argument will be `data`, and passing other arguments without an explicit keyword will result in an error or misinterpretation.\n",
      "  warnings.warn(\n",
      "C:\\Users\\mayah\\anaconda3\\lib\\site-packages\\seaborn\\_decorators.py:36: FutureWarning: Pass the following variable as a keyword arg: x. From version 0.12, the only valid positional argument will be `data`, and passing other arguments without an explicit keyword will result in an error or misinterpretation.\n",
      "  warnings.warn(\n",
      "C:\\Users\\mayah\\anaconda3\\lib\\site-packages\\seaborn\\_decorators.py:36: FutureWarning: Pass the following variable as a keyword arg: x. From version 0.12, the only valid positional argument will be `data`, and passing other arguments without an explicit keyword will result in an error or misinterpretation.\n",
      "  warnings.warn(\n",
      "C:\\Users\\mayah\\anaconda3\\lib\\site-packages\\seaborn\\_decorators.py:36: FutureWarning: Pass the following variable as a keyword arg: x. From version 0.12, the only valid positional argument will be `data`, and passing other arguments without an explicit keyword will result in an error or misinterpretation.\n",
      "  warnings.warn(\n"
     ]
    },
    {
     "data": {
      "image/png": "[encoded data removed]",
      "text/plain": [
       "<Figure size 1080x1224 with 5 Axes>"
      ]
     },
     "metadata": {
      "needs_background": "light"
     },
     "output_type": "display_data"
    }
   ],
   "source": [
    "plt.figure(figsize=(15,17))\n",
    "i = 1\n",
    "for col in ['Type','PaymentMethod','gender','InternetService', 'EndDate']:\n",
    "    plt.subplot(4, 2, i)\n",
    "    sns.countplot(df[col], x=col)\n",
    "    i += 1"
   ]
  },
  {
   "cell_type": "markdown",
   "id": "437490b9",
   "metadata": {},
   "source": [
    "### Encoding categorical features with one-hot-encoding"
   ]
  },
  {
   "cell_type": "code",
   "execution_count": 21,
   "id": "fd2e9c4e",
   "metadata": {},
   "outputs": [
    {
     "data": {
      "text/html": [
       "<div>\n",
       "<style scoped>\n",
       "    .dataframe tbody tr th:only-of-type {\n",
       "        vertical-align: middle;\n",
       "    }\n",
       "\n",
       "    .dataframe tbody tr th {\n",
       "        vertical-align: top;\n",
       "    }\n",
       "\n",
       "    .dataframe thead th {\n",
       "        text-align: right;\n",
       "    }\n",
       "</style>\n",
       "<table border=\"1\" class=\"dataframe\">\n",
       "  <thead>\n",
       "    <tr style=\"text-align: right;\">\n",
       "      <th></th>\n",
       "      <th>EndDate</th>\n",
       "      <th>Type_One year</th>\n",
       "      <th>Type_Two year</th>\n",
       "      <th>PaymentMethod_Credit card (automatic)</th>\n",
       "      <th>PaymentMethod_Electronic check</th>\n",
       "      <th>PaymentMethod_Mailed check</th>\n",
       "      <th>gender_Male</th>\n",
       "      <th>InternetService_Fiber optic</th>\n",
       "      <th>PaperlessBilling</th>\n",
       "      <th>MonthlyCharges</th>\n",
       "      <th>...</th>\n",
       "      <th>SeniorCitizen</th>\n",
       "      <th>Partner</th>\n",
       "      <th>Dependents</th>\n",
       "      <th>OnlineSecurity</th>\n",
       "      <th>OnlineBackup</th>\n",
       "      <th>DeviceProtection</th>\n",
       "      <th>TechSupport</th>\n",
       "      <th>StreamingTV</th>\n",
       "      <th>StreamingMovies</th>\n",
       "      <th>MultipleLines</th>\n",
       "    </tr>\n",
       "  </thead>\n",
       "  <tbody>\n",
       "    <tr>\n",
       "      <th>2253</th>\n",
       "      <td>False</td>\n",
       "      <td>0</td>\n",
       "      <td>1</td>\n",
       "      <td>0</td>\n",
       "      <td>0</td>\n",
       "      <td>0</td>\n",
       "      <td>1</td>\n",
       "      <td>0</td>\n",
       "      <td>0</td>\n",
       "      <td>74.40</td>\n",
       "      <td>...</td>\n",
       "      <td>1</td>\n",
       "      <td>1</td>\n",
       "      <td>0</td>\n",
       "      <td>1.0</td>\n",
       "      <td>1.0</td>\n",
       "      <td>1.0</td>\n",
       "      <td>1.0</td>\n",
       "      <td>1.0</td>\n",
       "      <td>0.0</td>\n",
       "      <td>0.0</td>\n",
       "    </tr>\n",
       "    <tr>\n",
       "      <th>1783</th>\n",
       "      <td>True</td>\n",
       "      <td>0</td>\n",
       "      <td>0</td>\n",
       "      <td>0</td>\n",
       "      <td>1</td>\n",
       "      <td>0</td>\n",
       "      <td>1</td>\n",
       "      <td>1</td>\n",
       "      <td>1</td>\n",
       "      <td>71.65</td>\n",
       "      <td>...</td>\n",
       "      <td>0</td>\n",
       "      <td>0</td>\n",
       "      <td>1</td>\n",
       "      <td>0.0</td>\n",
       "      <td>0.0</td>\n",
       "      <td>0.0</td>\n",
       "      <td>0.0</td>\n",
       "      <td>0.0</td>\n",
       "      <td>0.0</td>\n",
       "      <td>0.0</td>\n",
       "    </tr>\n",
       "    <tr>\n",
       "      <th>3343</th>\n",
       "      <td>False</td>\n",
       "      <td>1</td>\n",
       "      <td>0</td>\n",
       "      <td>0</td>\n",
       "      <td>0</td>\n",
       "      <td>0</td>\n",
       "      <td>0</td>\n",
       "      <td>0</td>\n",
       "      <td>0</td>\n",
       "      <td>20.10</td>\n",
       "      <td>...</td>\n",
       "      <td>0</td>\n",
       "      <td>0</td>\n",
       "      <td>0</td>\n",
       "      <td>0.0</td>\n",
       "      <td>0.0</td>\n",
       "      <td>0.0</td>\n",
       "      <td>0.0</td>\n",
       "      <td>0.0</td>\n",
       "      <td>0.0</td>\n",
       "      <td>0.0</td>\n",
       "    </tr>\n",
       "  </tbody>\n",
       "</table>\n",
       "<p>3 rows × 22 columns</p>\n",
       "</div>"
      ],
      "text/plain": [
       "      EndDate  Type_One year  Type_Two year  \\\n",
       "2253    False              0              1   \n",
       "1783     True              0              0   \n",
       "3343    False              1              0   \n",
       "\n",
       "      PaymentMethod_Credit card (automatic)  PaymentMethod_Electronic check  \\\n",
       "2253                                      0                               0   \n",
       "1783                                      0                               1   \n",
       "3343                                      0                               0   \n",
       "\n",
       "      PaymentMethod_Mailed check  gender_Male  InternetService_Fiber optic  \\\n",
       "2253                           0            1                            0   \n",
       "1783                           0            1                            1   \n",
       "3343                           0            0                            0   \n",
       "\n",
       "      PaperlessBilling  MonthlyCharges  ...  SeniorCitizen  Partner  \\\n",
       "2253                 0           74.40  ...              1        1   \n",
       "1783                 1           71.65  ...              0        0   \n",
       "3343                 0           20.10  ...              0        0   \n",
       "\n",
       "      Dependents  OnlineSecurity  OnlineBackup  DeviceProtection  TechSupport  \\\n",
       "2253           0             1.0           1.0               1.0          1.0   \n",
       "1783           1             0.0           0.0               0.0          0.0   \n",
       "3343           0             0.0           0.0               0.0          0.0   \n",
       "\n",
       "      StreamingTV  StreamingMovies  MultipleLines  \n",
       "2253          1.0              0.0            0.0  \n",
       "1783          0.0              0.0            0.0  \n",
       "3343          0.0              0.0            0.0  \n",
       "\n",
       "[3 rows x 22 columns]"
      ]
     },
     "execution_count": 21,
     "metadata": {},
     "output_type": "execute_result"
    }
   ],
   "source": [
    "categorical_columns = ['Type','PaymentMethod','gender','InternetService', 'EndDate']\n",
    "numerical_columns = ['PaperlessBilling','MonthlyCharges','TotalCharges','MembershipLengthDays','SeniorCitizen','Partner','Dependents','OnlineSecurity','OnlineBackup','DeviceProtection','TechSupport','StreamingTV','StreamingMovies','MultipleLines']\n",
    "encoded_columns = pd.get_dummies(df[categorical_columns], drop_first=True)\n",
    "df_ohe = encoded_columns.join(df[numerical_columns].fillna(0))\n",
    "df_ohe.sample(3)"
   ]
  },
  {
   "cell_type": "markdown",
   "id": "f24697b6",
   "metadata": {},
   "source": [
    "### checking target correlation with features"
   ]
  },
  {
   "cell_type": "code",
   "execution_count": 22,
   "id": "49e79533",
   "metadata": {},
   "outputs": [
    {
     "data": {
      "image/png": "[encoded data removed]",
      "text/plain": [
       "<Figure size 1080x576 with 1 Axes>"
      ]
     },
     "metadata": {
      "needs_background": "light"
     },
     "output_type": "display_data"
    }
   ],
   "source": [
    "features = df_ohe.drop('EndDate', axis=1)\n",
    "target = df_ohe['EndDate']\n",
    "\n",
    "#plotting the correlation with target variable\n",
    "plt.figure(figsize = (15, 8))\n",
    "ax=sns.barplot(x=features.columns, y = features.corrwith(target))\n",
    "sns.barplot(x = features.columns, y = features.corrwith(target))\n",
    "plt.title('Correlation with EndDate column', fontsize = 20)\n",
    "x=plt.setp(ax.get_xticklabels(), rotation=90)"
   ]
  },
  {
   "cell_type": "code",
   "execution_count": 23,
   "id": "dd453072",
   "metadata": {},
   "outputs": [
    {
     "name": "stdout",
     "output_type": "stream",
     "text": [
      "<class 'pandas.core.frame.DataFrame'>\n",
      "Int64Index: 7043 entries, 0 to 7042\n",
      "Data columns (total 20 columns):\n",
      " #   Column                                 Non-Null Count  Dtype  \n",
      "---  ------                                 --------------  -----  \n",
      " 0   Type_One year                          7043 non-null   uint8  \n",
      " 1   Type_Two year                          7043 non-null   uint8  \n",
      " 2   PaymentMethod_Credit card (automatic)  7043 non-null   uint8  \n",
      " 3   PaymentMethod_Electronic check         7043 non-null   uint8  \n",
      " 4   PaymentMethod_Mailed check             7043 non-null   uint8  \n",
      " 5   InternetService_Fiber optic            7043 non-null   uint8  \n",
      " 6   PaperlessBilling                       7043 non-null   int64  \n",
      " 7   MonthlyCharges                         7043 non-null   float64\n",
      " 8   TotalCharges                           7043 non-null   float64\n",
      " 9   MembershipLengthDays                   7043 non-null   int64  \n",
      " 10  SeniorCitizen                          7043 non-null   int64  \n",
      " 11  Partner                                7043 non-null   int64  \n",
      " 12  Dependents                             7043 non-null   int64  \n",
      " 13  OnlineSecurity                         7043 non-null   float64\n",
      " 14  OnlineBackup                           7043 non-null   float64\n",
      " 15  DeviceProtection                       7043 non-null   float64\n",
      " 16  TechSupport                            7043 non-null   float64\n",
      " 17  StreamingTV                            7043 non-null   float64\n",
      " 18  StreamingMovies                        7043 non-null   float64\n",
      " 19  MultipleLines                          7043 non-null   float64\n",
      "dtypes: float64(9), int64(5), uint8(6)\n",
      "memory usage: 1.1 MB\n"
     ]
    }
   ],
   "source": [
    "# droping gender feature\n",
    "features = features.drop(['gender_Male'], axis=1)\n",
    "\n",
    "features.info()"
   ]
  },
  {
   "cell_type": "markdown",
   "id": "ed1cbde1",
   "metadata": {},
   "source": [
    "### spliting data to train and test sets"
   ]
  },
  {
   "cell_type": "code",
   "execution_count": 24,
   "id": "673d2926",
   "metadata": {},
   "outputs": [
    {
     "name": "stdout",
     "output_type": "stream",
     "text": [
      "(5282, 20) (1761, 20) (5282,) (1761,)\n"
     ]
    }
   ],
   "source": [
    "X_train, X_test, y_train, y_test = train_test_split(features, target, test_size=0.25, random_state=54321)\n",
    "print(X_train.shape, X_test.shape, y_train.shape, y_test.shape)"
   ]
  },
  {
   "cell_type": "markdown",
   "id": "1b87da56",
   "metadata": {},
   "source": [
    "## Machine Learning models"
   ]
  },
  {
   "cell_type": "markdown",
   "id": "9704d620",
   "metadata": {},
   "source": [
    "The metrics for determinig model quality are ROC-AUC score and Accuracy.\n",
    "\n",
    "I will train different models and compare them to a baseline linear model.\n",
    "\n",
    "I will find the best hyperparameters to increase model quality."
   ]
  },
  {
   "cell_type": "markdown",
   "id": "2ec95437",
   "metadata": {},
   "source": [
    "\n",
    "#### Baseline: Logistic Regression"
   ]
  },
  {
   "cell_type": "code",
   "execution_count": 25,
   "id": "9854fd50",
   "metadata": {},
   "outputs": [
    {
     "data": {
      "text/plain": [
       "{'fit_time': array([0.08850026, 0.10933685, 0.0937686 , 0.10936356, 0.09367514]),\n",
       " 'score_time': array([0.        , 0.        , 0.        , 0.        , 0.01568317]),\n",
       " 'test_roc_auc': array([0.81616368, 0.8134058 , 0.8314166 , 0.81355838, 0.80634152]),\n",
       " 'test_accuracy': array([0.74834437, 0.73982971, 0.75378788, 0.71780303, 0.75473485])}"
      ]
     },
     "execution_count": 25,
     "metadata": {},
     "output_type": "execute_result"
    }
   ],
   "source": [
    "pipe_lr = Pipeline([('res', SMOTE(sampling_strategy='minority', random_state=54321)),\n",
    "                    ('sc', StandardScaler()),\n",
    "                    ('clf',LogisticRegression())])\n",
    "pipe_lr.fit(X_train,y_train)\n",
    "\n",
    "cross_validate(pipe_lr, X_train, y_train, cv=5, scoring=('roc_auc', 'accuracy'), )"
   ]
  },
  {
   "cell_type": "code",
   "execution_count": 26,
   "id": "47833bdd",
   "metadata": {},
   "outputs": [
    {
     "name": "stderr",
     "output_type": "stream",
     "text": [
      "C:\\Users\\mayah\\anaconda3\\lib\\site-packages\\sklearn\\utils\\deprecation.py:87: FutureWarning: Function plot_roc_curve is deprecated; Function :func:`plot_roc_curve` is deprecated in 1.0 and will be removed in 1.2. Use one of the class methods: :meth:`sklearn.metrics.RocCurveDisplay.from_predictions` or :meth:`sklearn.metrics.RocCurveDisplay.from_estimator`.\n",
      "  warnings.warn(msg, category=FutureWarning)\n"
     ]
    },
    {
     "data": {
      "text/plain": [
       "<sklearn.metrics._plot.roc_curve.RocCurveDisplay at 0x2ce19c52f10>"
      ]
     },
     "execution_count": 26,
     "metadata": {},
     "output_type": "execute_result"
    },
    {
     "data": {
      "image/png": "[encoded data removed]",
      "text/plain": [
       "<Figure size 432x288 with 1 Axes>"
      ]
     },
     "metadata": {
      "needs_background": "light"
     },
     "output_type": "display_data"
    }
   ],
   "source": [
    "metrics.plot_roc_curve(pipe_lr, X_train, y_train)"
   ]
  },
  {
   "cell_type": "markdown",
   "id": "25c1a61c",
   "metadata": {},
   "source": [
    "#### Decision Tree Classifier"
   ]
  },
  {
   "cell_type": "code",
   "execution_count": 27,
   "id": "2fa1d539",
   "metadata": {},
   "outputs": [
    {
     "data": {
      "text/plain": [
       "{'fit_time': array([0.09482884, 0.09329629, 0.09373689, 0.09373498, 0.09434152]),\n",
       " 'score_time': array([0.        , 0.01562142, 0.        , 0.        , 0.        ]),\n",
       " 'test_roc_auc': array([0.6728784 , 0.68875373, 0.68102666, 0.6811384 , 0.69675707]),\n",
       " 'test_accuracy': array([0.743614  , 0.75685904, 0.73768939, 0.74526515, 0.76609848])}"
      ]
     },
     "execution_count": 27,
     "metadata": {},
     "output_type": "execute_result"
    }
   ],
   "source": [
    "pipe_dt = Pipeline([('res', SMOTE(sampling_strategy='minority', random_state=54321)),\n",
    "                    ('sc', StandardScaler()),\n",
    "                    ('clf',DecisionTreeClassifier(class_weight='balanced'))])\n",
    "pipe_dt.fit(X_train,y_train)\n",
    "\n",
    "cross_validate(pipe_dt, X_train, y_train, cv=5, scoring=('roc_auc', 'accuracy'))"
   ]
  },
  {
   "cell_type": "code",
   "execution_count": 28,
   "id": "1654f750",
   "metadata": {},
   "outputs": [
    {
     "name": "stderr",
     "output_type": "stream",
     "text": [
      "C:\\Users\\mayah\\anaconda3\\lib\\site-packages\\sklearn\\utils\\deprecation.py:87: FutureWarning: Function plot_roc_curve is deprecated; Function :func:`plot_roc_curve` is deprecated in 1.0 and will be removed in 1.2. Use one of the class methods: :meth:`sklearn.metrics.RocCurveDisplay.from_predictions` or :meth:`sklearn.metrics.RocCurveDisplay.from_estimator`.\n",
      "  warnings.warn(msg, category=FutureWarning)\n"
     ]
    },
    {
     "data": {
      "text/plain": [
       "<sklearn.metrics._plot.roc_curve.RocCurveDisplay at 0x2ce17b0e610>"
      ]
     },
     "execution_count": 28,
     "metadata": {},
     "output_type": "execute_result"
    },
    {
     "data": {
      "image/png": "[encoded data removed]",
      "text/plain": [
       "<Figure size 432x288 with 1 Axes>"
      ]
     },
     "metadata": {
      "needs_background": "light"
     },
     "output_type": "display_data"
    }
   ],
   "source": [
    "metrics.plot_roc_curve(pipe_dt, X_train, y_train)"
   ]
  },
  {
   "cell_type": "markdown",
   "id": "d061a3d9",
   "metadata": {},
   "source": [
    "#### Random Forest Classifier"
   ]
  },
  {
   "cell_type": "code",
   "execution_count": 38,
   "id": "f4fe9ab5",
   "metadata": {},
   "outputs": [
    {
     "data": {
      "text/plain": [
       "{'fit_time': array([2.35700607, 4.87095356, 4.97044277, 4.81066942, 4.88873529]),\n",
       " 'score_time': array([0.07360578, 0.04649091, 0.06988454, 0.06380153, 0.07382083]),\n",
       " 'test_roc_auc': array([0.8541781 , 0.85005985, 0.85747177, 0.82508206, 0.8406146 ]),\n",
       " 'test_accuracy': array([0.81173132, 0.79943236, 0.81060606, 0.78598485, 0.80965909])}"
      ]
     },
     "execution_count": 38,
     "metadata": {},
     "output_type": "execute_result"
    }
   ],
   "source": [
    "pipe_rf = Pipeline([('res', SMOTE(sampling_strategy='minority', random_state=54321)),\n",
    "                    ('sc', StandardScaler()),\n",
    "                    ('clf',RandomForestClassifier(n_jobs=-1, class_weight='balanced'))])\n",
    "\n",
    "param_grid = { 'clf__max_depth': [int(x) for x in np.linspace(10, 110, num = 5)],\n",
    "               'clf__min_samples_split': [2, 5, 10],\n",
    "               'clf__min_samples_leaf': [1, 2, 4],\n",
    "               'clf__bootstrap': [True, False]\n",
    "             }\n",
    "\n",
    "rf = RandomizedSearchCV(pipe_rf, param_grid, n_jobs=-1)\n",
    "rf.fit(X_train, y_train)\n",
    "\n",
    "cross_validate(rf, X_train, y_train, cv=5, scoring=('roc_auc', 'accuracy'))"
   ]
  },
  {
   "cell_type": "code",
   "execution_count": 39,
   "id": "af32e82f",
   "metadata": {},
   "outputs": [
    {
     "name": "stderr",
     "output_type": "stream",
     "text": [
      "C:\\Users\\mayah\\anaconda3\\lib\\site-packages\\sklearn\\utils\\deprecation.py:87: FutureWarning: Function plot_roc_curve is deprecated; Function :func:`plot_roc_curve` is deprecated in 1.0 and will be removed in 1.2. Use one of the class methods: :meth:`sklearn.metrics.RocCurveDisplay.from_predictions` or :meth:`sklearn.metrics.RocCurveDisplay.from_estimator`.\n",
      "  warnings.warn(msg, category=FutureWarning)\n"
     ]
    },
    {
     "data": {
      "text/plain": [
       "<sklearn.metrics._plot.roc_curve.RocCurveDisplay at 0x2ce179fe520>"
      ]
     },
     "execution_count": 39,
     "metadata": {},
     "output_type": "execute_result"
    },
    {
     "data": {
      "image/png": "[encoded data removed]",
      "text/plain": [
       "<Figure size 432x288 with 1 Axes>"
      ]
     },
     "metadata": {
      "needs_background": "light"
     },
     "output_type": "display_data"
    }
   ],
   "source": [
    "metrics.plot_roc_curve(rf, X_train, y_train)"
   ]
  },
  {
   "cell_type": "markdown",
   "id": "c7e9122a",
   "metadata": {},
   "source": [
    "#### LGBM Classifier"
   ]
  },
  {
   "cell_type": "code",
   "execution_count": 40,
   "id": "16684595",
   "metadata": {},
   "outputs": [
    {
     "data": {
      "text/plain": [
       "{'fit_time': array([8.10886407, 9.83937502, 7.75673747, 7.23064351, 6.16303873]),\n",
       " 'score_time': array([0.01562762, 0.01562691, 0.03124857, 0.03125095, 0.03124356]),\n",
       " 'test_roc_auc': array([0.9141874 , 0.90452829, 0.9090653 , 0.90947503, 0.9222931 ]),\n",
       " 'test_accuracy': array([0.87322611, 0.85335856, 0.85795455, 0.875     , 0.87973485])}"
      ]
     },
     "execution_count": 40,
     "metadata": {},
     "output_type": "execute_result"
    }
   ],
   "source": [
    "pipe_lgbm = Pipeline([('res', SMOTE(sampling_strategy='minority', random_state=54321)),\n",
    "                      ('sc', StandardScaler()),\n",
    "                      ('clf',LGBMClassifier(n_jobs=-1, class_weight='balanced'))])\n",
    "\n",
    "param_grid = {'clf__n_estimators': [int(x) for x in np.linspace(start = 100, stop = 1000, num = 5)],\n",
    "              'clf__learning_rate': [float(x) for x in np.linspace(0.01, 0.2, num = 5)],\n",
    "              'clf__num_leaves': [int(x) for x in np.linspace(20, 3000, num = 5)],\n",
    "              'clf__max_depth': [int(x) for x in np.linspace(start = 3, stop = 12, num = 5)],\n",
    "             }\n",
    "\n",
    "lgbm = RandomizedSearchCV(pipe_lgbm, param_grid, n_jobs=-1)\n",
    "lgbm.fit(X_train, y_train)\n",
    "\n",
    "cross_validate(lgbm, X_train, y_train, cv=5, scoring=('roc_auc', 'accuracy'))"
   ]
  },
  {
   "cell_type": "code",
   "execution_count": 41,
   "id": "9793988b",
   "metadata": {},
   "outputs": [
    {
     "name": "stderr",
     "output_type": "stream",
     "text": [
      "C:\\Users\\mayah\\anaconda3\\lib\\site-packages\\sklearn\\utils\\deprecation.py:87: FutureWarning: Function plot_roc_curve is deprecated; Function :func:`plot_roc_curve` is deprecated in 1.0 and will be removed in 1.2. Use one of the class methods: :meth:`sklearn.metrics.RocCurveDisplay.from_predictions` or :meth:`sklearn.metrics.RocCurveDisplay.from_estimator`.\n",
      "  warnings.warn(msg, category=FutureWarning)\n"
     ]
    },
    {
     "data": {
      "text/plain": [
       "<sklearn.metrics._plot.roc_curve.RocCurveDisplay at 0x2ce1782b3d0>"
      ]
     },
     "execution_count": 41,
     "metadata": {},
     "output_type": "execute_result"
    },
    {
     "data": {
      "image/png": "[encoded data removed]",
      "text/plain": [
       "<Figure size 432x288 with 1 Axes>"
      ]
     },
     "metadata": {
      "needs_background": "light"
     },
     "output_type": "display_data"
    }
   ],
   "source": [
    "metrics.plot_roc_curve(lgbm, X_train, y_train)"
   ]
  },
  {
   "cell_type": "markdown",
   "id": "d3751fbe",
   "metadata": {},
   "source": [
    "#### XGB Classifier"
   ]
  },
  {
   "cell_type": "code",
   "execution_count": 42,
   "id": "5062765e",
   "metadata": {},
   "outputs": [
    {
     "name": "stderr",
     "output_type": "stream",
     "text": [
      "C:\\Users\\mayah\\anaconda3\\lib\\site-packages\\sklearn\\model_selection\\_validation.py:378: FitFailedWarning: \n",
      "20 fits failed out of a total of 50.\n",
      "The score on these train-test partitions for these parameters will be set to nan.\n",
      "If these failures are not expected, you can try to debug them by setting error_score='raise'.\n",
      "\n",
      "Below are more details about the failures:\n",
      "--------------------------------------------------------------------------------\n",
      "8 fits failed with the following error:\n",
      "Traceback (most recent call last):\n",
      "  File \"C:\\Users\\mayah\\anaconda3\\lib\\site-packages\\sklearn\\model_selection\\_validation.py\", line 686, in _fit_and_score\n",
      "    estimator.fit(X_train, y_train, **fit_params)\n",
      "  File \"C:\\Users\\mayah\\anaconda3\\lib\\site-packages\\imblearn\\pipeline.py\", line 272, in fit\n",
      "    self._final_estimator.fit(Xt, yt, **fit_params_last_step)\n",
      "  File \"C:\\Users\\mayah\\anaconda3\\lib\\site-packages\\xgboost\\core.py\", line 575, in inner_f\n",
      "    return f(**kwargs)\n",
      "  File \"C:\\Users\\mayah\\anaconda3\\lib\\site-packages\\xgboost\\sklearn.py\", line 1400, in fit\n",
      "    self._Booster = train(\n",
      "  File \"C:\\Users\\mayah\\anaconda3\\lib\\site-packages\\xgboost\\core.py\", line 575, in inner_f\n",
      "    return f(**kwargs)\n",
      "  File \"C:\\Users\\mayah\\anaconda3\\lib\\site-packages\\xgboost\\training.py\", line 181, in train\n",
      "    bst.update(dtrain, i, obj)\n",
      "  File \"C:\\Users\\mayah\\anaconda3\\lib\\site-packages\\xgboost\\core.py\", line 1778, in update\n",
      "    _check_call(_LIB.XGBoosterUpdateOneIter(self.handle,\n",
      "  File \"C:\\Users\\mayah\\anaconda3\\lib\\site-packages\\xgboost\\core.py\", line 246, in _check_call\n",
      "    raise XGBoostError(py_str(_LIB.XGBGetLastError()))\n",
      "xgboost.core.XGBoostError: [16:54:34] c:\\users\\administrator\\workspace\\xgboost-win64_release_1.6.0\\src\\objective\\./regression_loss.h:94: Check failed: base_score > 0.0f && base_score < 1.0f: base_score must be in (0,1) for logistic loss, got: 1\n",
      "\n",
      "--------------------------------------------------------------------------------\n",
      "12 fits failed with the following error:\n",
      "Traceback (most recent call last):\n",
      "  File \"C:\\Users\\mayah\\anaconda3\\lib\\site-packages\\sklearn\\model_selection\\_validation.py\", line 686, in _fit_and_score\n",
      "    estimator.fit(X_train, y_train, **fit_params)\n",
      "  File \"C:\\Users\\mayah\\anaconda3\\lib\\site-packages\\imblearn\\pipeline.py\", line 272, in fit\n",
      "    self._final_estimator.fit(Xt, yt, **fit_params_last_step)\n",
      "  File \"C:\\Users\\mayah\\anaconda3\\lib\\site-packages\\xgboost\\core.py\", line 575, in inner_f\n",
      "    return f(**kwargs)\n",
      "  File \"C:\\Users\\mayah\\anaconda3\\lib\\site-packages\\xgboost\\sklearn.py\", line 1400, in fit\n",
      "    self._Booster = train(\n",
      "  File \"C:\\Users\\mayah\\anaconda3\\lib\\site-packages\\xgboost\\core.py\", line 575, in inner_f\n",
      "    return f(**kwargs)\n",
      "  File \"C:\\Users\\mayah\\anaconda3\\lib\\site-packages\\xgboost\\training.py\", line 181, in train\n",
      "    bst.update(dtrain, i, obj)\n",
      "  File \"C:\\Users\\mayah\\anaconda3\\lib\\site-packages\\xgboost\\core.py\", line 1778, in update\n",
      "    _check_call(_LIB.XGBoosterUpdateOneIter(self.handle,\n",
      "  File \"C:\\Users\\mayah\\anaconda3\\lib\\site-packages\\xgboost\\core.py\", line 246, in _check_call\n",
      "    raise XGBoostError(py_str(_LIB.XGBGetLastError()))\n",
      "xgboost.core.XGBoostError: [16:54:35] c:\\users\\administrator\\workspace\\xgboost-win64_release_1.6.0\\src\\objective\\./regression_loss.h:94: Check failed: base_score > 0.0f && base_score < 1.0f: base_score must be in (0,1) for logistic loss, got: 1\n",
      "\n",
      "  warnings.warn(some_fits_failed_message, FitFailedWarning)\n",
      "C:\\Users\\mayah\\anaconda3\\lib\\site-packages\\sklearn\\model_selection\\_search.py:953: UserWarning: One or more of the test scores are non-finite: [0.73949267 0.73949267 0.84096876        nan        nan 0.73949267\n",
      " 0.73078144        nan 0.73949267        nan]\n",
      "  warnings.warn(\n",
      "C:\\Users\\mayah\\anaconda3\\lib\\site-packages\\sklearn\\model_selection\\_validation.py:378: FitFailedWarning: \n",
      "10 fits failed out of a total of 50.\n",
      "The score on these train-test partitions for these parameters will be set to nan.\n",
      "If these failures are not expected, you can try to debug them by setting error_score='raise'.\n",
      "\n",
      "Below are more details about the failures:\n",
      "--------------------------------------------------------------------------------\n",
      "10 fits failed with the following error:\n",
      "Traceback (most recent call last):\n",
      "  File \"C:\\Users\\mayah\\anaconda3\\lib\\site-packages\\sklearn\\model_selection\\_validation.py\", line 686, in _fit_and_score\n",
      "    estimator.fit(X_train, y_train, **fit_params)\n",
      "  File \"C:\\Users\\mayah\\anaconda3\\lib\\site-packages\\imblearn\\pipeline.py\", line 272, in fit\n",
      "    self._final_estimator.fit(Xt, yt, **fit_params_last_step)\n",
      "  File \"C:\\Users\\mayah\\anaconda3\\lib\\site-packages\\xgboost\\core.py\", line 575, in inner_f\n",
      "    return f(**kwargs)\n",
      "  File \"C:\\Users\\mayah\\anaconda3\\lib\\site-packages\\xgboost\\sklearn.py\", line 1400, in fit\n",
      "    self._Booster = train(\n",
      "  File \"C:\\Users\\mayah\\anaconda3\\lib\\site-packages\\xgboost\\core.py\", line 575, in inner_f\n",
      "    return f(**kwargs)\n",
      "  File \"C:\\Users\\mayah\\anaconda3\\lib\\site-packages\\xgboost\\training.py\", line 181, in train\n",
      "    bst.update(dtrain, i, obj)\n",
      "  File \"C:\\Users\\mayah\\anaconda3\\lib\\site-packages\\xgboost\\core.py\", line 1778, in update\n",
      "    _check_call(_LIB.XGBoosterUpdateOneIter(self.handle,\n",
      "  File \"C:\\Users\\mayah\\anaconda3\\lib\\site-packages\\xgboost\\core.py\", line 246, in _check_call\n",
      "    raise XGBoostError(py_str(_LIB.XGBGetLastError()))\n",
      "xgboost.core.XGBoostError: [16:54:41] c:\\users\\administrator\\workspace\\xgboost-win64_release_1.6.0\\src\\objective\\./regression_loss.h:94: Check failed: base_score > 0.0f && base_score < 1.0f: base_score must be in (0,1) for logistic loss, got: 1\n",
      "\n",
      "  warnings.warn(some_fits_failed_message, FitFailedWarning)\n",
      "C:\\Users\\mayah\\anaconda3\\lib\\site-packages\\sklearn\\model_selection\\_search.py:953: UserWarning: One or more of the test scores are non-finite: [0.73846154        nan        nan 0.82248521 0.8087574  0.82792899\n",
      " 0.81065089 0.83076923 0.80473373 0.73940828]\n",
      "  warnings.warn(\n",
      "C:\\Users\\mayah\\anaconda3\\lib\\site-packages\\sklearn\\model_selection\\_validation.py:378: FitFailedWarning: \n",
      "5 fits failed out of a total of 50.\n",
      "The score on these train-test partitions for these parameters will be set to nan.\n",
      "If these failures are not expected, you can try to debug them by setting error_score='raise'.\n",
      "\n",
      "Below are more details about the failures:\n",
      "--------------------------------------------------------------------------------\n",
      "5 fits failed with the following error:\n",
      "Traceback (most recent call last):\n",
      "  File \"C:\\Users\\mayah\\anaconda3\\lib\\site-packages\\sklearn\\model_selection\\_validation.py\", line 686, in _fit_and_score\n",
      "    estimator.fit(X_train, y_train, **fit_params)\n",
      "  File \"C:\\Users\\mayah\\anaconda3\\lib\\site-packages\\imblearn\\pipeline.py\", line 272, in fit\n",
      "    self._final_estimator.fit(Xt, yt, **fit_params_last_step)\n",
      "  File \"C:\\Users\\mayah\\anaconda3\\lib\\site-packages\\xgboost\\core.py\", line 575, in inner_f\n",
      "    return f(**kwargs)\n",
      "  File \"C:\\Users\\mayah\\anaconda3\\lib\\site-packages\\xgboost\\sklearn.py\", line 1400, in fit\n",
      "    self._Booster = train(\n",
      "  File \"C:\\Users\\mayah\\anaconda3\\lib\\site-packages\\xgboost\\core.py\", line 575, in inner_f\n",
      "    return f(**kwargs)\n",
      "  File \"C:\\Users\\mayah\\anaconda3\\lib\\site-packages\\xgboost\\training.py\", line 181, in train\n",
      "    bst.update(dtrain, i, obj)\n",
      "  File \"C:\\Users\\mayah\\anaconda3\\lib\\site-packages\\xgboost\\core.py\", line 1778, in update\n",
      "    _check_call(_LIB.XGBoosterUpdateOneIter(self.handle,\n",
      "  File \"C:\\Users\\mayah\\anaconda3\\lib\\site-packages\\xgboost\\core.py\", line 246, in _check_call\n",
      "    raise XGBoostError(py_str(_LIB.XGBGetLastError()))\n",
      "xgboost.core.XGBoostError: [16:54:47] c:\\users\\administrator\\workspace\\xgboost-win64_release_1.6.0\\src\\objective\\./regression_loss.h:94: Check failed: base_score > 0.0f && base_score < 1.0f: base_score must be in (0,1) for logistic loss, got: 1\n",
      "\n",
      "  warnings.warn(some_fits_failed_message, FitFailedWarning)\n",
      "C:\\Users\\mayah\\anaconda3\\lib\\site-packages\\sklearn\\model_selection\\_search.py:953: UserWarning: One or more of the test scores are non-finite: [0.73964497 0.82224852 0.73964497 0.83076923        nan 0.73964497\n",
      " 0.76591716 0.74366864 0.73964497 0.73964497]\n",
      "  warnings.warn(\n",
      "C:\\Users\\mayah\\anaconda3\\lib\\site-packages\\sklearn\\model_selection\\_validation.py:378: FitFailedWarning: \n",
      "40 fits failed out of a total of 50.\n",
      "The score on these train-test partitions for these parameters will be set to nan.\n",
      "If these failures are not expected, you can try to debug them by setting error_score='raise'.\n",
      "\n",
      "Below are more details about the failures:\n",
      "--------------------------------------------------------------------------------\n",
      "33 fits failed with the following error:\n",
      "Traceback (most recent call last):\n",
      "  File \"C:\\Users\\mayah\\anaconda3\\lib\\site-packages\\sklearn\\model_selection\\_validation.py\", line 686, in _fit_and_score\n",
      "    estimator.fit(X_train, y_train, **fit_params)\n",
      "  File \"C:\\Users\\mayah\\anaconda3\\lib\\site-packages\\imblearn\\pipeline.py\", line 272, in fit\n",
      "    self._final_estimator.fit(Xt, yt, **fit_params_last_step)\n",
      "  File \"C:\\Users\\mayah\\anaconda3\\lib\\site-packages\\xgboost\\core.py\", line 575, in inner_f\n",
      "    return f(**kwargs)\n",
      "  File \"C:\\Users\\mayah\\anaconda3\\lib\\site-packages\\xgboost\\sklearn.py\", line 1400, in fit\n",
      "    self._Booster = train(\n",
      "  File \"C:\\Users\\mayah\\anaconda3\\lib\\site-packages\\xgboost\\core.py\", line 575, in inner_f\n",
      "    return f(**kwargs)\n",
      "  File \"C:\\Users\\mayah\\anaconda3\\lib\\site-packages\\xgboost\\training.py\", line 181, in train\n",
      "    bst.update(dtrain, i, obj)\n",
      "  File \"C:\\Users\\mayah\\anaconda3\\lib\\site-packages\\xgboost\\core.py\", line 1778, in update\n",
      "    _check_call(_LIB.XGBoosterUpdateOneIter(self.handle,\n",
      "  File \"C:\\Users\\mayah\\anaconda3\\lib\\site-packages\\xgboost\\core.py\", line 246, in _check_call\n",
      "    raise XGBoostError(py_str(_LIB.XGBGetLastError()))\n",
      "xgboost.core.XGBoostError: [16:54:50] c:\\users\\administrator\\workspace\\xgboost-win64_release_1.6.0\\src\\objective\\./regression_loss.h:94: Check failed: base_score > 0.0f && base_score < 1.0f: base_score must be in (0,1) for logistic loss, got: 1\n",
      "\n",
      "--------------------------------------------------------------------------------\n",
      "7 fits failed with the following error:\n",
      "Traceback (most recent call last):\n",
      "  File \"C:\\Users\\mayah\\anaconda3\\lib\\site-packages\\sklearn\\model_selection\\_validation.py\", line 686, in _fit_and_score\n",
      "    estimator.fit(X_train, y_train, **fit_params)\n",
      "  File \"C:\\Users\\mayah\\anaconda3\\lib\\site-packages\\imblearn\\pipeline.py\", line 272, in fit\n",
      "    self._final_estimator.fit(Xt, yt, **fit_params_last_step)\n",
      "  File \"C:\\Users\\mayah\\anaconda3\\lib\\site-packages\\xgboost\\core.py\", line 575, in inner_f\n",
      "    return f(**kwargs)\n",
      "  File \"C:\\Users\\mayah\\anaconda3\\lib\\site-packages\\xgboost\\sklearn.py\", line 1400, in fit\n",
      "    self._Booster = train(\n",
      "  File \"C:\\Users\\mayah\\anaconda3\\lib\\site-packages\\xgboost\\core.py\", line 575, in inner_f\n",
      "    return f(**kwargs)\n",
      "  File \"C:\\Users\\mayah\\anaconda3\\lib\\site-packages\\xgboost\\training.py\", line 181, in train\n",
      "    bst.update(dtrain, i, obj)\n",
      "  File \"C:\\Users\\mayah\\anaconda3\\lib\\site-packages\\xgboost\\core.py\", line 1778, in update\n",
      "    _check_call(_LIB.XGBoosterUpdateOneIter(self.handle,\n",
      "  File \"C:\\Users\\mayah\\anaconda3\\lib\\site-packages\\xgboost\\core.py\", line 246, in _check_call\n",
      "    raise XGBoostError(py_str(_LIB.XGBGetLastError()))\n",
      "xgboost.core.XGBoostError: [16:54:51] c:\\users\\administrator\\workspace\\xgboost-win64_release_1.6.0\\src\\objective\\./regression_loss.h:94: Check failed: base_score > 0.0f && base_score < 1.0f: base_score must be in (0,1) for logistic loss, got: 1\n",
      "\n",
      "  warnings.warn(some_fits_failed_message, FitFailedWarning)\n",
      "C:\\Users\\mayah\\anaconda3\\lib\\site-packages\\sklearn\\model_selection\\_search.py:953: UserWarning: One or more of the test scores are non-finite: [       nan        nan        nan        nan 0.83672388        nan\n",
      "        nan        nan        nan 0.80028005]\n",
      "  warnings.warn(\n",
      "C:\\Users\\mayah\\anaconda3\\lib\\site-packages\\sklearn\\model_selection\\_validation.py:378: FitFailedWarning: \n",
      "5 fits failed out of a total of 50.\n",
      "The score on these train-test partitions for these parameters will be set to nan.\n",
      "If these failures are not expected, you can try to debug them by setting error_score='raise'.\n",
      "\n",
      "Below are more details about the failures:\n",
      "--------------------------------------------------------------------------------\n",
      "1 fits failed with the following error:\n",
      "Traceback (most recent call last):\n",
      "  File \"C:\\Users\\mayah\\anaconda3\\lib\\site-packages\\sklearn\\model_selection\\_validation.py\", line 686, in _fit_and_score\n",
      "    estimator.fit(X_train, y_train, **fit_params)\n",
      "  File \"C:\\Users\\mayah\\anaconda3\\lib\\site-packages\\imblearn\\pipeline.py\", line 272, in fit\n",
      "    self._final_estimator.fit(Xt, yt, **fit_params_last_step)\n",
      "  File \"C:\\Users\\mayah\\anaconda3\\lib\\site-packages\\xgboost\\core.py\", line 575, in inner_f\n",
      "    return f(**kwargs)\n",
      "  File \"C:\\Users\\mayah\\anaconda3\\lib\\site-packages\\xgboost\\sklearn.py\", line 1400, in fit\n",
      "    self._Booster = train(\n",
      "  File \"C:\\Users\\mayah\\anaconda3\\lib\\site-packages\\xgboost\\core.py\", line 575, in inner_f\n",
      "    return f(**kwargs)\n",
      "  File \"C:\\Users\\mayah\\anaconda3\\lib\\site-packages\\xgboost\\training.py\", line 181, in train\n",
      "    bst.update(dtrain, i, obj)\n",
      "  File \"C:\\Users\\mayah\\anaconda3\\lib\\site-packages\\xgboost\\core.py\", line 1778, in update\n",
      "    _check_call(_LIB.XGBoosterUpdateOneIter(self.handle,\n",
      "  File \"C:\\Users\\mayah\\anaconda3\\lib\\site-packages\\xgboost\\core.py\", line 246, in _check_call\n",
      "    raise XGBoostError(py_str(_LIB.XGBGetLastError()))\n",
      "xgboost.core.XGBoostError: [16:54:57] c:\\users\\administrator\\workspace\\xgboost-win64_release_1.6.0\\src\\objective\\./regression_loss.h:94: Check failed: base_score > 0.0f && base_score < 1.0f: base_score must be in (0,1) for logistic loss, got: 1\n",
      "\n",
      "--------------------------------------------------------------------------------\n",
      "4 fits failed with the following error:\n",
      "Traceback (most recent call last):\n",
      "  File \"C:\\Users\\mayah\\anaconda3\\lib\\site-packages\\sklearn\\model_selection\\_validation.py\", line 686, in _fit_and_score\n",
      "    estimator.fit(X_train, y_train, **fit_params)\n",
      "  File \"C:\\Users\\mayah\\anaconda3\\lib\\site-packages\\imblearn\\pipeline.py\", line 272, in fit\n",
      "    self._final_estimator.fit(Xt, yt, **fit_params_last_step)\n",
      "  File \"C:\\Users\\mayah\\anaconda3\\lib\\site-packages\\xgboost\\core.py\", line 575, in inner_f\n",
      "    return f(**kwargs)\n",
      "  File \"C:\\Users\\mayah\\anaconda3\\lib\\site-packages\\xgboost\\sklearn.py\", line 1400, in fit\n",
      "    self._Booster = train(\n",
      "  File \"C:\\Users\\mayah\\anaconda3\\lib\\site-packages\\xgboost\\core.py\", line 575, in inner_f\n",
      "    return f(**kwargs)\n",
      "  File \"C:\\Users\\mayah\\anaconda3\\lib\\site-packages\\xgboost\\training.py\", line 181, in train\n",
      "    bst.update(dtrain, i, obj)\n",
      "  File \"C:\\Users\\mayah\\anaconda3\\lib\\site-packages\\xgboost\\core.py\", line 1778, in update\n",
      "    _check_call(_LIB.XGBoosterUpdateOneIter(self.handle,\n",
      "  File \"C:\\Users\\mayah\\anaconda3\\lib\\site-packages\\xgboost\\core.py\", line 246, in _check_call\n",
      "    raise XGBoostError(py_str(_LIB.XGBGetLastError()))\n",
      "xgboost.core.XGBoostError: [16:54:58] c:\\users\\administrator\\workspace\\xgboost-win64_release_1.6.0\\src\\objective\\./regression_loss.h:94: Check failed: base_score > 0.0f && base_score < 1.0f: base_score must be in (0,1) for logistic loss, got: 1\n",
      "\n",
      "  warnings.warn(some_fits_failed_message, FitFailedWarning)\n",
      "C:\\Users\\mayah\\anaconda3\\lib\\site-packages\\sklearn\\model_selection\\_search.py:953: UserWarning: One or more of the test scores are non-finite: [0.73947011 0.81921105 0.73947011 0.73947011 0.73947011 0.7344997\n",
      " 0.73947011 0.84240323 0.7404149         nan]\n",
      "  warnings.warn(\n",
      "C:\\Users\\mayah\\anaconda3\\lib\\site-packages\\sklearn\\model_selection\\_validation.py:378: FitFailedWarning: \n",
      "30 fits failed out of a total of 50.\n",
      "The score on these train-test partitions for these parameters will be set to nan.\n",
      "If these failures are not expected, you can try to debug them by setting error_score='raise'.\n",
      "\n",
      "Below are more details about the failures:\n",
      "--------------------------------------------------------------------------------\n",
      "30 fits failed with the following error:\n",
      "Traceback (most recent call last):\n",
      "  File \"C:\\Users\\mayah\\anaconda3\\lib\\site-packages\\sklearn\\model_selection\\_validation.py\", line 686, in _fit_and_score\n",
      "    estimator.fit(X_train, y_train, **fit_params)\n",
      "  File \"C:\\Users\\mayah\\anaconda3\\lib\\site-packages\\imblearn\\pipeline.py\", line 272, in fit\n",
      "    self._final_estimator.fit(Xt, yt, **fit_params_last_step)\n",
      "  File \"C:\\Users\\mayah\\anaconda3\\lib\\site-packages\\xgboost\\core.py\", line 575, in inner_f\n",
      "    return f(**kwargs)\n",
      "  File \"C:\\Users\\mayah\\anaconda3\\lib\\site-packages\\xgboost\\sklearn.py\", line 1400, in fit\n",
      "    self._Booster = train(\n",
      "  File \"C:\\Users\\mayah\\anaconda3\\lib\\site-packages\\xgboost\\core.py\", line 575, in inner_f\n",
      "    return f(**kwargs)\n",
      "  File \"C:\\Users\\mayah\\anaconda3\\lib\\site-packages\\xgboost\\training.py\", line 181, in train\n",
      "    bst.update(dtrain, i, obj)\n",
      "  File \"C:\\Users\\mayah\\anaconda3\\lib\\site-packages\\xgboost\\core.py\", line 1778, in update\n",
      "    _check_call(_LIB.XGBoosterUpdateOneIter(self.handle,\n",
      "  File \"C:\\Users\\mayah\\anaconda3\\lib\\site-packages\\xgboost\\core.py\", line 246, in _check_call\n",
      "    raise XGBoostError(py_str(_LIB.XGBGetLastError()))\n",
      "xgboost.core.XGBoostError: [16:55:04] c:\\users\\administrator\\workspace\\xgboost-win64_release_1.6.0\\src\\objective\\./regression_loss.h:94: Check failed: base_score > 0.0f && base_score < 1.0f: base_score must be in (0,1) for logistic loss, got: 1\n",
      "\n",
      "  warnings.warn(some_fits_failed_message, FitFailedWarning)\n",
      "C:\\Users\\mayah\\anaconda3\\lib\\site-packages\\sklearn\\model_selection\\_search.py:953: UserWarning: One or more of the test scores are non-finite: [       nan        nan 0.73947011        nan 0.81873879        nan\n",
      " 0.7990969  0.83719669        nan        nan]\n",
      "  warnings.warn(\n"
     ]
    },
    {
     "data": {
      "text/plain": [
       "{'fit_time': array([5.62527966, 3.49321985, 6.04118443, 7.31155014, 6.12370634]),\n",
       " 'score_time': array([0.        , 0.01562977, 0.01562166, 0.01561999, 0.01109385]),\n",
       " 'test_roc_auc': array([0.88776099, 0.87748659, 0.89376324, 0.88135258, 0.89662903]),\n",
       " 'test_accuracy': array([0.85241249, 0.83822138, 0.84185606, 0.83617424, 0.85132576])}"
      ]
     },
     "execution_count": 42,
     "metadata": {},
     "output_type": "execute_result"
    }
   ],
   "source": [
    "pipe_xgb = Pipeline([('res', SMOTE(sampling_strategy='minority', random_state=54321)),\n",
    "                      ('sc', StandardScaler()),\n",
    "                      ('clf', XGBClassifier(n_jobs=-1))])\n",
    "\n",
    "param_grid = {\n",
    "    'clf__n_estimators': [100, 200, 500],\n",
    "    'clf__learning_rate': [0.01,0.05,0.1],\n",
    "    'clf__booster': ['gbtree', 'gblinear'],\n",
    "    'clf__gamma': [0, 0.5, 1],\n",
    "    'clf__reg_alpha': [0, 0.5, 1],\n",
    "    'clf__reg_lambda': [0.5, 1, 5],\n",
    "    'clf__base_score': [0.2, 0.5, 1]\n",
    "}\n",
    "\n",
    "\n",
    "xgb = RandomizedSearchCV(pipe_xgb, param_grid, n_jobs=-1)\n",
    "xgb.fit(X_train, y_train)\n",
    "\n",
    "cross_validate(xgb, X_train, y_train, cv=5, scoring=('roc_auc', 'accuracy'))"
   ]
  },
  {
   "cell_type": "code",
   "execution_count": 43,
   "id": "922581eb",
   "metadata": {},
   "outputs": [
    {
     "name": "stderr",
     "output_type": "stream",
     "text": [
      "C:\\Users\\mayah\\anaconda3\\lib\\site-packages\\sklearn\\utils\\deprecation.py:87: FutureWarning: Function plot_roc_curve is deprecated; Function :func:`plot_roc_curve` is deprecated in 1.0 and will be removed in 1.2. Use one of the class methods: :meth:`sklearn.metrics.RocCurveDisplay.from_predictions` or :meth:`sklearn.metrics.RocCurveDisplay.from_estimator`.\n",
      "  warnings.warn(msg, category=FutureWarning)\n"
     ]
    },
    {
     "data": {
      "text/plain": [
       "<sklearn.metrics._plot.roc_curve.RocCurveDisplay at 0x2ce177d3520>"
      ]
     },
     "execution_count": 43,
     "metadata": {},
     "output_type": "execute_result"
    },
    {
     "data": {
      "image/png": "[encoded data removed]",
      "text/plain": [
       "<Figure size 432x288 with 1 Axes>"
      ]
     },
     "metadata": {
      "needs_background": "light"
     },
     "output_type": "display_data"
    }
   ],
   "source": [
    "metrics.plot_roc_curve(xgb, X_train, y_train)"
   ]
  },
  {
   "cell_type": "markdown",
   "id": "a161a10f",
   "metadata": {},
   "source": [
    "### Evaluating on Test set"
   ]
  },
  {
   "cell_type": "code",
   "execution_count": 44,
   "id": "53a3cdba",
   "metadata": {},
   "outputs": [
    {
     "data": {
      "text/plain": [
       "0.9105465475649631"
      ]
     },
     "execution_count": 44,
     "metadata": {},
     "output_type": "execute_result"
    }
   ],
   "source": [
    "metrics.roc_auc_score(np.array(y_test), lgbm.predict_proba(X_test)[:, 1])"
   ]
  },
  {
   "cell_type": "code",
   "execution_count": 45,
   "id": "c7c40673",
   "metadata": {},
   "outputs": [
    {
     "data": {
      "text/plain": [
       "0.8597387847813742"
      ]
     },
     "execution_count": 45,
     "metadata": {},
     "output_type": "execute_result"
    }
   ],
   "source": [
    "metrics.accuracy_score(y_test, lgbm.predict(X_test))"
   ]
  },
  {
   "cell_type": "code",
   "execution_count": 46,
   "id": "38e368e8",
   "metadata": {
    "scrolled": false
   },
   "outputs": [
    {
     "name": "stderr",
     "output_type": "stream",
     "text": [
      "C:\\Users\\mayah\\anaconda3\\lib\\site-packages\\sklearn\\utils\\deprecation.py:87: FutureWarning: Function plot_roc_curve is deprecated; Function :func:`plot_roc_curve` is deprecated in 1.0 and will be removed in 1.2. Use one of the class methods: :meth:`sklearn.metrics.RocCurveDisplay.from_predictions` or :meth:`sklearn.metrics.RocCurveDisplay.from_estimator`.\n",
      "  warnings.warn(msg, category=FutureWarning)\n"
     ]
    },
    {
     "data": {
      "text/plain": [
       "<sklearn.metrics._plot.roc_curve.RocCurveDisplay at 0x2ce170850a0>"
      ]
     },
     "execution_count": 46,
     "metadata": {},
     "output_type": "execute_result"
    },
    {
     "data": {
      "image/png": "[encoded data removed]",
      "text/plain": [
       "<Figure size 432x288 with 1 Axes>"
      ]
     },
     "metadata": {
      "needs_background": "light"
     },
     "output_type": "display_data"
    }
   ],
   "source": [
    "metrics.plot_roc_curve(lgbm, X_test, y_test)"
   ]
  },
  {
   "cell_type": "markdown",
   "id": "6d786913",
   "metadata": {},
   "source": [
    "## Conclusion"
   ]
  },
  {
   "cell_type": "markdown",
   "id": "6ff5a063",
   "metadata": {},
   "source": [
    "0.91 roc_auc score for LGBMCLassifier, with the following feature engeneering: creating duration feature, joining data sets and filling missing values with 0, encoding data (one hot), pipeline: resampling and scaling data. Improving quality with hyperparameter tuning. Cross validation "
   ]
  }
 ],
 "metadata": {
  "kernelspec": {
   "display_name": "Python 3 (ipykernel)",
   "language": "python",
   "name": "python3"
  },
  "language_info": {
   "codemirror_mode": {
    "name": "ipython",
    "version": 3
   },
   "file_extension": ".py",
   "mimetype": "text/x-python",
   "name": "python",
   "nbconvert_exporter": "python",
   "pygments_lexer": "ipython3",
   "version": "3.9.12"
  },
  "toc": {
   "base_numbering": 1,
   "nav_menu": {},
   "number_sections": true,
   "sideBar": true,
   "skip_h1_title": true,
   "title_cell": "Table of Contents",
   "title_sidebar": "Contents",
   "toc_cell": false,
   "toc_position": {},
   "toc_section_display": true,
   "toc_window_display": false
  }
 },
 "nbformat": 4,
 "nbformat_minor": 5
}
